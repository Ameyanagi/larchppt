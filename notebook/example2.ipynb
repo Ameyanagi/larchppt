{
 "cells": [
  {
   "cell_type": "code",
   "execution_count": 1,
   "metadata": {},
   "outputs": [],
   "source": [
    "import os\n",
    "import sys\n",
    "module_path = os.path.abspath(os.path.join('..'))\n",
    "if module_path not in sys.path:\n",
    "    sys.path.append(module_path)"
   ]
  },
  {
   "cell_type": "code",
   "execution_count": 2,
   "metadata": {},
   "outputs": [],
   "source": [
    "import larchppt"
   ]
  },
  {
   "cell_type": "code",
   "execution_count": 3,
   "metadata": {},
   "outputs": [],
   "source": [
    "lp = larchppt.larchppt()"
   ]
  },
  {
   "cell_type": "code",
   "execution_count": 17,
   "metadata": {},
   "outputs": [],
   "source": [
    "# data_dir = \"/nsls2/data/qas-new/legacy/processed/2022/2/{}/{}*.dat\"\n",
    "# proposal = 309890\n",
    "\n",
    "data_dir = \"../Pt/{}/data/{}*.dat\"\n",
    "# dir_info_list = [\n",
    "#     (\"Co1\", \"Co foil\"),\n",
    "#     (\"Co11\", \"Co11\")\n",
    "# ]\n",
    "\n",
    "dir_info_list = [\n",
    "    (\"Pt1\", \"Pt1\"),\n",
    "    (\"Pt2\", \"Pt2\"),\n",
    "    (\"Pt3\", \"Pt3\"),\n",
    "    (\"Pt4\", \"Pt4\"),\n",
    "    (\"Pt5\", \"Pt5\")\n",
    "]\n",
    "\n",
    "title_font_size = 20\n",
    "label_font_size = 12\n"
   ]
  },
  {
   "cell_type": "code",
   "execution_count": 18,
   "metadata": {},
   "outputs": [
    {
     "name": "stdout",
     "output_type": "stream",
     "text": [
      "../Pt/data/CuO_Pt*.dat\n"
     ]
    },
    {
     "name": "stderr",
     "output_type": "stream",
     "text": [
      "100%|██████████| 1133/1133 [22:14<00:00,  1.18s/it] \n"
     ]
    },
    {
     "name": "stdout",
     "output_type": "stream",
     "text": [
      "Error in plotting merged spectrum. File:  00000_CuO_Pt All Spectrum\n"
     ]
    }
   ],
   "source": [
    "for dir_info in dir_info_list:\n",
    "    file_path = data_dir.format(*dir_info)\n",
    "    output_dir = \"../output/{}/\".format(dir_info[0])\n",
    "    athena_output_dir = \"../output/athena/\"\n",
    "    title = \"Preanalysis of {}\".format(dir_info[1])\n",
    "    prefix = \"00000_{}\".format(dir_info[1])\n",
    "    ppt_path = \"../output/slides/{}_preanalysis.pptx\".format(dir_info[1])\n",
    "    \n",
    "    print(file_path)\n",
    "    \n",
    "    lp.QAS_preanalysis(files_path=file_path, \n",
    "                       output_dir=output_dir, \n",
    "                       athena_output_dir=athena_output_dir,\n",
    "                       prefix=prefix)"
   ]
  },
  {
   "cell_type": "code",
   "execution_count": 21,
   "metadata": {},
   "outputs": [
    {
     "name": "stderr",
     "output_type": "stream",
     "text": [
      "100%|██████████| 71/71 [00:07<00:00,  9.96it/s]\n"
     ]
    }
   ],
   "source": [
    "for dir_info in dir_info_list:\n",
    "    file_path = data_dir.format(*dir_info)\n",
    "    output_dir = \"../output/{}/\".format(dir_info[0])\n",
    "    athena_output_dir = \"../output/athena/\"\n",
    "    title = \"Preanalysis of {}\".format(dir_info[1])\n",
    "    prefix = \"00000_{}\".format(dir_info[1])\n",
    "    ppt_path = \"../output/slides/{}_preanalysis.pptx\".format(dir_info[1])\n",
    "    \n",
    "    lp.generate_presenation(output_dir=output_dir, ppt_path=ppt_path, title = title, title_font_size=title_font_size, label_font_size=label_font_size)\n"
   ]
  },
  {
   "cell_type": "code",
   "execution_count": null,
   "metadata": {},
   "outputs": [],
   "source": []
  },
  {
   "cell_type": "code",
   "execution_count": null,
   "metadata": {},
   "outputs": [],
   "source": []
  }
 ],
 "metadata": {
  "kernelspec": {
   "display_name": "Python 3.9.13 ('larch')",
   "language": "python",
   "name": "python3"
  },
  "language_info": {
   "codemirror_mode": {
    "name": "ipython",
    "version": 3
   },
   "file_extension": ".py",
   "mimetype": "text/x-python",
   "name": "python",
   "nbconvert_exporter": "python",
   "pygments_lexer": "ipython3",
   "version": "3.9.13"
  },
  "orig_nbformat": 4,
  "vscode": {
   "interpreter": {
    "hash": "b28422a51819fdd3a898bf1b16803d6eaab1e4684455617d344af5c95f50d35c"
   }
  }
 },
 "nbformat": 4,
 "nbformat_minor": 2
}
