{
 "cells": [
  {
   "cell_type": "code",
   "execution_count": 1,
   "metadata": {},
   "outputs": [],
   "source": [
    "import os\n",
    "import sys\n",
    "module_path = os.path.abspath(os.path.join('..'))\n",
    "if module_path not in sys.path:\n",
    "    sys.path.append(module_path)"
   ]
  },
  {
   "cell_type": "code",
   "execution_count": 2,
   "metadata": {},
   "outputs": [],
   "source": [
    "import larchppt"
   ]
  },
  {
   "cell_type": "code",
   "execution_count": 3,
   "metadata": {},
   "outputs": [],
   "source": [
    "lp = larchppt.larchppt()"
   ]
  },
  {
   "cell_type": "code",
   "execution_count": 4,
   "metadata": {},
   "outputs": [
    {
     "name": "stderr",
     "output_type": "stream",
     "text": [
      "  3%|▎         | 5/173 [00:05<03:14,  1.16s/it]"
     ]
    },
    {
     "name": "stdout",
     "output_type": "stream",
     "text": [
      "Error in processing transmittion file: /Users/ryuichi/analysis/20230302/Ni/Ni1 Ni K  0001-r0002.dat\n"
     ]
    },
    {
     "name": "stderr",
     "output_type": "stream",
     "text": [
      "  3%|▎         | 6/173 [00:06<02:28,  1.12it/s]"
     ]
    },
    {
     "name": "stdout",
     "output_type": "stream",
     "text": [
      "Error in processing in reference. File:  /Users/ryuichi/analysis/20230302/Ni/Ni1 Ni K  0001-r0002.dat\n",
      "Error in processing transmittion file: /Users/ryuichi/analysis/20230302/Ni/Ni1 Ni K  0001.dat\n"
     ]
    },
    {
     "name": "stderr",
     "output_type": "stream",
     "text": [
      "  4%|▍         | 7/173 [00:06<01:59,  1.39it/s]"
     ]
    },
    {
     "name": "stdout",
     "output_type": "stream",
     "text": [
      "Error in processing in reference. File:  /Users/ryuichi/analysis/20230302/Ni/Ni1 Ni K  0001.dat\n",
      "Error in processing transmittion file: /Users/ryuichi/analysis/20230302/Ni/Ni1 Ni K  0002.dat\n"
     ]
    },
    {
     "name": "stderr",
     "output_type": "stream",
     "text": [
      "  5%|▍         | 8/173 [00:07<01:39,  1.65it/s]"
     ]
    },
    {
     "name": "stdout",
     "output_type": "stream",
     "text": [
      "Error in processing in reference. File:  /Users/ryuichi/analysis/20230302/Ni/Ni1 Ni K  0002.dat\n",
      "Error in processing transmittion file: /Users/ryuichi/analysis/20230302/Ni/Ni1 Ni K  0003.dat\n"
     ]
    },
    {
     "name": "stderr",
     "output_type": "stream",
     "text": [
      "  5%|▌         | 9/173 [00:07<01:26,  1.89it/s]"
     ]
    },
    {
     "name": "stdout",
     "output_type": "stream",
     "text": [
      "Error in processing in reference. File:  /Users/ryuichi/analysis/20230302/Ni/Ni1 Ni K  0003.dat\n",
      "Error in processing transmittion file: /Users/ryuichi/analysis/20230302/Ni/Ni1 Ni K  0004.dat\n"
     ]
    },
    {
     "name": "stderr",
     "output_type": "stream",
     "text": [
      "  6%|▌         | 10/173 [00:07<01:17,  2.10it/s]"
     ]
    },
    {
     "name": "stdout",
     "output_type": "stream",
     "text": [
      "Error in processing in reference. File:  /Users/ryuichi/analysis/20230302/Ni/Ni1 Ni K  0004.dat\n",
      "Error in processing transmittion file: /Users/ryuichi/analysis/20230302/Ni/Ni1 Ni K  0005.dat\n"
     ]
    },
    {
     "name": "stderr",
     "output_type": "stream",
     "text": [
      "  6%|▋         | 11/173 [00:08<01:17,  2.09it/s]"
     ]
    },
    {
     "name": "stdout",
     "output_type": "stream",
     "text": [
      "Error in processing in reference. File:  /Users/ryuichi/analysis/20230302/Ni/Ni1 Ni K  0005.dat\n",
      "Error in processing transmittion file: /Users/ryuichi/analysis/20230302/Ni/Ni1 Ni K  0006.dat\n"
     ]
    },
    {
     "name": "stderr",
     "output_type": "stream",
     "text": [
      "  7%|▋         | 12/173 [00:08<01:10,  2.27it/s]"
     ]
    },
    {
     "name": "stdout",
     "output_type": "stream",
     "text": [
      "Error in processing in reference. File:  /Users/ryuichi/analysis/20230302/Ni/Ni1 Ni K  0006.dat\n",
      "Error in processing transmittion file: /Users/ryuichi/analysis/20230302/Ni/Ni1 Ni K  0007.dat\n"
     ]
    },
    {
     "name": "stderr",
     "output_type": "stream",
     "text": [
      "  8%|▊         | 13/173 [00:08<01:06,  2.41it/s]"
     ]
    },
    {
     "name": "stdout",
     "output_type": "stream",
     "text": [
      "Error in processing in reference. File:  /Users/ryuichi/analysis/20230302/Ni/Ni1 Ni K  0007.dat\n",
      "Error in processing transmittion file: /Users/ryuichi/analysis/20230302/Ni/Ni1 Ni K  0008.dat\n"
     ]
    },
    {
     "name": "stderr",
     "output_type": "stream",
     "text": [
      "  8%|▊         | 14/173 [00:09<01:03,  2.52it/s]"
     ]
    },
    {
     "name": "stdout",
     "output_type": "stream",
     "text": [
      "Error in processing in reference. File:  /Users/ryuichi/analysis/20230302/Ni/Ni1 Ni K  0008.dat\n",
      "Error in processing transmittion file: /Users/ryuichi/analysis/20230302/Ni/Ni1 Ni K  0009.dat\n"
     ]
    },
    {
     "name": "stderr",
     "output_type": "stream",
     "text": [
      "  9%|▊         | 15/173 [00:09<01:00,  2.61it/s]"
     ]
    },
    {
     "name": "stdout",
     "output_type": "stream",
     "text": [
      "Error in processing in reference. File:  /Users/ryuichi/analysis/20230302/Ni/Ni1 Ni K  0009.dat\n",
      "Error in processing transmittion file: /Users/ryuichi/analysis/20230302/Ni/Ni1 Ni K  0010.dat\n"
     ]
    },
    {
     "name": "stderr",
     "output_type": "stream",
     "text": [
      "  9%|▉         | 16/173 [00:10<00:58,  2.66it/s]"
     ]
    },
    {
     "name": "stdout",
     "output_type": "stream",
     "text": [
      "Error in processing in reference. File:  /Users/ryuichi/analysis/20230302/Ni/Ni1 Ni K  0010.dat\n",
      "Error in processing transmittion file: /Users/ryuichi/analysis/20230302/Ni/Ni1 Ni K  0011.dat\n"
     ]
    },
    {
     "name": "stderr",
     "output_type": "stream",
     "text": [
      " 10%|▉         | 17/173 [00:10<00:57,  2.72it/s]"
     ]
    },
    {
     "name": "stdout",
     "output_type": "stream",
     "text": [
      "Error in processing in reference. File:  /Users/ryuichi/analysis/20230302/Ni/Ni1 Ni K  0011.dat\n",
      "Error in processing transmittion file: /Users/ryuichi/analysis/20230302/Ni/Ni1 Ni K  0012.dat\n"
     ]
    },
    {
     "name": "stderr",
     "output_type": "stream",
     "text": [
      " 10%|█         | 18/173 [00:10<01:04,  2.41it/s]"
     ]
    },
    {
     "name": "stdout",
     "output_type": "stream",
     "text": [
      "Error in processing in reference. File:  /Users/ryuichi/analysis/20230302/Ni/Ni1 Ni K  0012.dat\n",
      "Error in processing transmittion file: /Users/ryuichi/analysis/20230302/Ni/Ni1 Ni K  0013.dat\n"
     ]
    },
    {
     "name": "stderr",
     "output_type": "stream",
     "text": [
      " 11%|█         | 19/173 [00:11<01:01,  2.51it/s]"
     ]
    },
    {
     "name": "stdout",
     "output_type": "stream",
     "text": [
      "Error in processing in reference. File:  /Users/ryuichi/analysis/20230302/Ni/Ni1 Ni K  0013.dat\n",
      "Error in processing transmittion file: /Users/ryuichi/analysis/20230302/Ni/Ni1 Ni K  0014.dat\n"
     ]
    },
    {
     "name": "stderr",
     "output_type": "stream",
     "text": [
      " 12%|█▏        | 20/173 [00:11<00:59,  2.58it/s]"
     ]
    },
    {
     "name": "stdout",
     "output_type": "stream",
     "text": [
      "Error in processing in reference. File:  /Users/ryuichi/analysis/20230302/Ni/Ni1 Ni K  0014.dat\n",
      "Error in processing transmittion file: /Users/ryuichi/analysis/20230302/Ni/Ni1 Ni K  0015.dat\n"
     ]
    },
    {
     "name": "stderr",
     "output_type": "stream",
     "text": [
      " 12%|█▏        | 21/173 [00:12<00:57,  2.62it/s]"
     ]
    },
    {
     "name": "stdout",
     "output_type": "stream",
     "text": [
      "Error in processing in reference. File:  /Users/ryuichi/analysis/20230302/Ni/Ni1 Ni K  0015.dat\n",
      "Error in processing transmittion file: /Users/ryuichi/analysis/20230302/Ni/Ni1 Ni K  0016.dat\n"
     ]
    },
    {
     "name": "stderr",
     "output_type": "stream",
     "text": [
      " 13%|█▎        | 22/173 [00:12<00:56,  2.70it/s]"
     ]
    },
    {
     "name": "stdout",
     "output_type": "stream",
     "text": [
      "Error in processing in reference. File:  /Users/ryuichi/analysis/20230302/Ni/Ni1 Ni K  0016.dat\n",
      "Error in processing transmittion file: /Users/ryuichi/analysis/20230302/Ni/Ni1 Ni K  0017.dat\n"
     ]
    },
    {
     "name": "stderr",
     "output_type": "stream",
     "text": [
      " 13%|█▎        | 23/173 [00:12<00:55,  2.71it/s]"
     ]
    },
    {
     "name": "stdout",
     "output_type": "stream",
     "text": [
      "Error in processing in reference. File:  /Users/ryuichi/analysis/20230302/Ni/Ni1 Ni K  0017.dat\n",
      "Error in processing transmittion file: /Users/ryuichi/analysis/20230302/Ni/Ni1 Ni K  0018.dat\n"
     ]
    },
    {
     "name": "stderr",
     "output_type": "stream",
     "text": [
      " 14%|█▍        | 24/173 [00:13<00:54,  2.73it/s]"
     ]
    },
    {
     "name": "stdout",
     "output_type": "stream",
     "text": [
      "Error in processing in reference. File:  /Users/ryuichi/analysis/20230302/Ni/Ni1 Ni K  0018.dat\n",
      "Error in processing transmittion file: /Users/ryuichi/analysis/20230302/Ni/Ni1 Ni K  0019.dat\n"
     ]
    },
    {
     "name": "stderr",
     "output_type": "stream",
     "text": [
      " 14%|█▍        | 25/173 [00:13<00:53,  2.76it/s]"
     ]
    },
    {
     "name": "stdout",
     "output_type": "stream",
     "text": [
      "Error in processing in reference. File:  /Users/ryuichi/analysis/20230302/Ni/Ni1 Ni K  0019.dat\n",
      "Error in processing transmittion file: /Users/ryuichi/analysis/20230302/Ni/Ni1 Ni K  0020.dat\n"
     ]
    },
    {
     "name": "stderr",
     "output_type": "stream",
     "text": [
      " 15%|█▌        | 26/173 [00:14<01:02,  2.34it/s]"
     ]
    },
    {
     "name": "stdout",
     "output_type": "stream",
     "text": [
      "Error in processing in reference. File:  /Users/ryuichi/analysis/20230302/Ni/Ni1 Ni K  0020.dat\n",
      "Error in processing transmittion file: /Users/ryuichi/analysis/20230302/Ni/Ni2 Ni K  0001-r0002.dat\n"
     ]
    },
    {
     "name": "stderr",
     "output_type": "stream",
     "text": [
      " 16%|█▌        | 27/173 [00:14<01:00,  2.43it/s]"
     ]
    },
    {
     "name": "stdout",
     "output_type": "stream",
     "text": [
      "Error in processing in reference. File:  /Users/ryuichi/analysis/20230302/Ni/Ni2 Ni K  0001-r0002.dat\n",
      "Error in processing transmittion file: /Users/ryuichi/analysis/20230302/Ni/Ni2 Ni K  0001.dat\n"
     ]
    },
    {
     "name": "stderr",
     "output_type": "stream",
     "text": [
      " 16%|█▌        | 28/173 [00:14<00:57,  2.50it/s]"
     ]
    },
    {
     "name": "stdout",
     "output_type": "stream",
     "text": [
      "Error in processing in reference. File:  /Users/ryuichi/analysis/20230302/Ni/Ni2 Ni K  0001.dat\n",
      "Error in processing transmittion file: /Users/ryuichi/analysis/20230302/Ni/Ni2 Ni K  0002.dat\n"
     ]
    },
    {
     "name": "stderr",
     "output_type": "stream",
     "text": [
      " 17%|█▋        | 29/173 [00:15<00:56,  2.53it/s]"
     ]
    },
    {
     "name": "stdout",
     "output_type": "stream",
     "text": [
      "Error in processing in reference. File:  /Users/ryuichi/analysis/20230302/Ni/Ni2 Ni K  0002.dat\n",
      "Error in processing transmittion file: /Users/ryuichi/analysis/20230302/Ni/Ni2 Ni K  0003.dat\n"
     ]
    },
    {
     "name": "stderr",
     "output_type": "stream",
     "text": [
      " 17%|█▋        | 30/173 [00:15<00:54,  2.60it/s]"
     ]
    },
    {
     "name": "stdout",
     "output_type": "stream",
     "text": [
      "Error in processing in reference. File:  /Users/ryuichi/analysis/20230302/Ni/Ni2 Ni K  0003.dat\n",
      "Error in processing transmittion file: /Users/ryuichi/analysis/20230302/Ni/Ni2 Ni K  0004.dat\n"
     ]
    },
    {
     "name": "stderr",
     "output_type": "stream",
     "text": [
      " 18%|█▊        | 31/173 [00:15<00:53,  2.66it/s]"
     ]
    },
    {
     "name": "stdout",
     "output_type": "stream",
     "text": [
      "Error in processing in reference. File:  /Users/ryuichi/analysis/20230302/Ni/Ni2 Ni K  0004.dat\n",
      "Error in processing transmittion file: /Users/ryuichi/analysis/20230302/Ni/Ni2 Ni K  0005.dat\n"
     ]
    },
    {
     "name": "stderr",
     "output_type": "stream",
     "text": [
      " 18%|█▊        | 32/173 [00:16<00:52,  2.70it/s]"
     ]
    },
    {
     "name": "stdout",
     "output_type": "stream",
     "text": [
      "Error in processing in reference. File:  /Users/ryuichi/analysis/20230302/Ni/Ni2 Ni K  0005.dat\n",
      "Error in processing transmittion file: /Users/ryuichi/analysis/20230302/Ni/Ni2 Ni K  0006.dat\n"
     ]
    },
    {
     "name": "stderr",
     "output_type": "stream",
     "text": [
      " 19%|█▉        | 33/173 [00:16<00:51,  2.73it/s]"
     ]
    },
    {
     "name": "stdout",
     "output_type": "stream",
     "text": [
      "Error in processing in reference. File:  /Users/ryuichi/analysis/20230302/Ni/Ni2 Ni K  0006.dat\n",
      "Error in processing transmittion file: /Users/ryuichi/analysis/20230302/Ni/Ni2 Ni K  0007.dat\n"
     ]
    },
    {
     "name": "stderr",
     "output_type": "stream",
     "text": [
      " 20%|█▉        | 34/173 [00:16<00:50,  2.76it/s]"
     ]
    },
    {
     "name": "stdout",
     "output_type": "stream",
     "text": [
      "Error in processing in reference. File:  /Users/ryuichi/analysis/20230302/Ni/Ni2 Ni K  0007.dat\n",
      "Error in processing transmittion file: /Users/ryuichi/analysis/20230302/Ni/Ni2 Ni K  0008.dat\n"
     ]
    },
    {
     "name": "stderr",
     "output_type": "stream",
     "text": [
      " 20%|██        | 35/173 [00:17<00:59,  2.32it/s]"
     ]
    },
    {
     "name": "stdout",
     "output_type": "stream",
     "text": [
      "Error in processing in reference. File:  /Users/ryuichi/analysis/20230302/Ni/Ni2 Ni K  0008.dat\n",
      "Error in processing transmittion file: /Users/ryuichi/analysis/20230302/Ni/Ni2 Ni K  0009.dat\n"
     ]
    },
    {
     "name": "stderr",
     "output_type": "stream",
     "text": [
      " 21%|██        | 36/173 [00:17<00:55,  2.45it/s]"
     ]
    },
    {
     "name": "stdout",
     "output_type": "stream",
     "text": [
      "Error in processing in reference. File:  /Users/ryuichi/analysis/20230302/Ni/Ni2 Ni K  0009.dat\n",
      "Error in processing transmittion file: /Users/ryuichi/analysis/20230302/Ni/Ni2 Ni K  0010.dat\n"
     ]
    },
    {
     "name": "stderr",
     "output_type": "stream",
     "text": [
      " 21%|██▏       | 37/173 [00:18<00:53,  2.55it/s]"
     ]
    },
    {
     "name": "stdout",
     "output_type": "stream",
     "text": [
      "Error in processing in reference. File:  /Users/ryuichi/analysis/20230302/Ni/Ni2 Ni K  0010.dat\n",
      "Error in processing transmittion file: /Users/ryuichi/analysis/20230302/Ni/Ni2 Ni K  0011.dat\n"
     ]
    },
    {
     "name": "stderr",
     "output_type": "stream",
     "text": [
      " 22%|██▏       | 38/173 [00:18<00:51,  2.65it/s]"
     ]
    },
    {
     "name": "stdout",
     "output_type": "stream",
     "text": [
      "Error in processing in reference. File:  /Users/ryuichi/analysis/20230302/Ni/Ni2 Ni K  0011.dat\n",
      "Error in processing transmittion file: /Users/ryuichi/analysis/20230302/Ni/Ni2 Ni K  0012.dat\n"
     ]
    },
    {
     "name": "stderr",
     "output_type": "stream",
     "text": [
      " 23%|██▎       | 39/173 [00:18<00:49,  2.71it/s]"
     ]
    },
    {
     "name": "stdout",
     "output_type": "stream",
     "text": [
      "Error in processing in reference. File:  /Users/ryuichi/analysis/20230302/Ni/Ni2 Ni K  0012.dat\n",
      "Error in processing transmittion file: /Users/ryuichi/analysis/20230302/Ni/Ni2 Ni K  0013.dat\n"
     ]
    },
    {
     "name": "stderr",
     "output_type": "stream",
     "text": [
      " 23%|██▎       | 40/173 [00:19<00:48,  2.75it/s]"
     ]
    },
    {
     "name": "stdout",
     "output_type": "stream",
     "text": [
      "Error in processing in reference. File:  /Users/ryuichi/analysis/20230302/Ni/Ni2 Ni K  0013.dat\n",
      "Error in processing transmittion file: /Users/ryuichi/analysis/20230302/Ni/Ni2 Ni K  0014.dat\n"
     ]
    },
    {
     "name": "stderr",
     "output_type": "stream",
     "text": [
      " 24%|██▎       | 41/173 [00:19<00:47,  2.77it/s]"
     ]
    },
    {
     "name": "stdout",
     "output_type": "stream",
     "text": [
      "Error in processing in reference. File:  /Users/ryuichi/analysis/20230302/Ni/Ni2 Ni K  0014.dat\n",
      "Error in processing transmittion file: /Users/ryuichi/analysis/20230302/Ni/Ni2 Ni K  0015.dat\n"
     ]
    },
    {
     "name": "stderr",
     "output_type": "stream",
     "text": [
      " 24%|██▍       | 42/173 [00:19<00:46,  2.80it/s]"
     ]
    },
    {
     "name": "stdout",
     "output_type": "stream",
     "text": [
      "Error in processing in reference. File:  /Users/ryuichi/analysis/20230302/Ni/Ni2 Ni K  0015.dat\n",
      "Error in processing transmittion file: /Users/ryuichi/analysis/20230302/Ni/Ni2 Ni K  0016.dat\n"
     ]
    },
    {
     "name": "stderr",
     "output_type": "stream",
     "text": [
      " 25%|██▍       | 43/173 [00:20<00:46,  2.81it/s]"
     ]
    },
    {
     "name": "stdout",
     "output_type": "stream",
     "text": [
      "Error in processing in reference. File:  /Users/ryuichi/analysis/20230302/Ni/Ni2 Ni K  0016.dat\n",
      "Error in processing transmittion file: /Users/ryuichi/analysis/20230302/Ni/Ni2 Ni K  0017.dat\n"
     ]
    },
    {
     "name": "stderr",
     "output_type": "stream",
     "text": [
      " 25%|██▌       | 44/173 [00:20<00:45,  2.83it/s]"
     ]
    },
    {
     "name": "stdout",
     "output_type": "stream",
     "text": [
      "Error in processing in reference. File:  /Users/ryuichi/analysis/20230302/Ni/Ni2 Ni K  0017.dat\n",
      "Error in processing transmittion file: /Users/ryuichi/analysis/20230302/Ni/Ni2 Ni K  0018.dat\n"
     ]
    },
    {
     "name": "stderr",
     "output_type": "stream",
     "text": [
      " 26%|██▌       | 45/173 [00:21<00:45,  2.83it/s]"
     ]
    },
    {
     "name": "stdout",
     "output_type": "stream",
     "text": [
      "Error in processing in reference. File:  /Users/ryuichi/analysis/20230302/Ni/Ni2 Ni K  0018.dat\n",
      "Error in processing transmittion file: /Users/ryuichi/analysis/20230302/Ni/Ni2 Ni K  0019.dat\n"
     ]
    },
    {
     "name": "stderr",
     "output_type": "stream",
     "text": [
      " 27%|██▋       | 46/173 [00:21<00:56,  2.26it/s]"
     ]
    },
    {
     "name": "stdout",
     "output_type": "stream",
     "text": [
      "Error in processing in reference. File:  /Users/ryuichi/analysis/20230302/Ni/Ni2 Ni K  0019.dat\n",
      "Error in processing transmittion file: /Users/ryuichi/analysis/20230302/Ni/Ni2 Ni K  0020.dat\n"
     ]
    },
    {
     "name": "stderr",
     "output_type": "stream",
     "text": [
      " 27%|██▋       | 47/173 [00:22<00:52,  2.40it/s]"
     ]
    },
    {
     "name": "stdout",
     "output_type": "stream",
     "text": [
      "Error in processing in reference. File:  /Users/ryuichi/analysis/20230302/Ni/Ni2 Ni K  0020.dat\n",
      "Error in processing transmittion file: /Users/ryuichi/analysis/20230302/Ni/Ni3 Ni K  0001-r0002.dat\n"
     ]
    },
    {
     "name": "stderr",
     "output_type": "stream",
     "text": [
      " 28%|██▊       | 48/173 [00:22<00:49,  2.52it/s]"
     ]
    },
    {
     "name": "stdout",
     "output_type": "stream",
     "text": [
      "Error in processing in reference. File:  /Users/ryuichi/analysis/20230302/Ni/Ni3 Ni K  0001-r0002.dat\n",
      "Error in processing transmittion file: /Users/ryuichi/analysis/20230302/Ni/Ni3 Ni K  0001.dat\n"
     ]
    },
    {
     "name": "stderr",
     "output_type": "stream",
     "text": [
      " 28%|██▊       | 49/173 [00:22<00:47,  2.62it/s]"
     ]
    },
    {
     "name": "stdout",
     "output_type": "stream",
     "text": [
      "Error in processing in reference. File:  /Users/ryuichi/analysis/20230302/Ni/Ni3 Ni K  0001.dat\n",
      "Error in processing transmittion file: /Users/ryuichi/analysis/20230302/Ni/Ni3 Ni K  0002.dat\n"
     ]
    },
    {
     "name": "stderr",
     "output_type": "stream",
     "text": [
      " 29%|██▉       | 50/173 [00:23<00:45,  2.69it/s]"
     ]
    },
    {
     "name": "stdout",
     "output_type": "stream",
     "text": [
      "Error in processing in reference. File:  /Users/ryuichi/analysis/20230302/Ni/Ni3 Ni K  0002.dat\n",
      "Error in processing transmittion file: /Users/ryuichi/analysis/20230302/Ni/Ni3 Ni K  0003.dat\n"
     ]
    },
    {
     "name": "stderr",
     "output_type": "stream",
     "text": [
      " 29%|██▉       | 51/173 [00:23<00:44,  2.75it/s]"
     ]
    },
    {
     "name": "stdout",
     "output_type": "stream",
     "text": [
      "Error in processing in reference. File:  /Users/ryuichi/analysis/20230302/Ni/Ni3 Ni K  0003.dat\n",
      "Error in processing transmittion file: /Users/ryuichi/analysis/20230302/Ni/Ni3 Ni K  0004.dat\n"
     ]
    },
    {
     "name": "stderr",
     "output_type": "stream",
     "text": [
      " 30%|███       | 52/173 [00:23<00:43,  2.78it/s]"
     ]
    },
    {
     "name": "stdout",
     "output_type": "stream",
     "text": [
      "Error in processing in reference. File:  /Users/ryuichi/analysis/20230302/Ni/Ni3 Ni K  0004.dat\n",
      "Error in processing transmittion file: /Users/ryuichi/analysis/20230302/Ni/Ni3 Ni K  0005.dat\n"
     ]
    },
    {
     "name": "stderr",
     "output_type": "stream",
     "text": [
      " 31%|███       | 53/173 [00:24<00:42,  2.82it/s]"
     ]
    },
    {
     "name": "stdout",
     "output_type": "stream",
     "text": [
      "Error in processing in reference. File:  /Users/ryuichi/analysis/20230302/Ni/Ni3 Ni K  0005.dat\n",
      "Error in processing transmittion file: /Users/ryuichi/analysis/20230302/Ni/Ni3 Ni K  0006.dat\n"
     ]
    },
    {
     "name": "stderr",
     "output_type": "stream",
     "text": [
      " 31%|███       | 54/173 [00:24<00:42,  2.83it/s]"
     ]
    },
    {
     "name": "stdout",
     "output_type": "stream",
     "text": [
      "Error in processing in reference. File:  /Users/ryuichi/analysis/20230302/Ni/Ni3 Ni K  0006.dat\n",
      "Error in processing transmittion file: /Users/ryuichi/analysis/20230302/Ni/Ni3 Ni K  0007.dat\n"
     ]
    },
    {
     "name": "stderr",
     "output_type": "stream",
     "text": [
      " 32%|███▏      | 55/173 [00:24<00:41,  2.83it/s]"
     ]
    },
    {
     "name": "stdout",
     "output_type": "stream",
     "text": [
      "Error in processing in reference. File:  /Users/ryuichi/analysis/20230302/Ni/Ni3 Ni K  0007.dat\n",
      "Error in processing transmittion file: /Users/ryuichi/analysis/20230302/Ni/Ni3 Ni K  0008.dat\n"
     ]
    },
    {
     "name": "stderr",
     "output_type": "stream",
     "text": [
      " 32%|███▏      | 56/173 [00:25<00:41,  2.85it/s]"
     ]
    },
    {
     "name": "stdout",
     "output_type": "stream",
     "text": [
      "Error in processing in reference. File:  /Users/ryuichi/analysis/20230302/Ni/Ni3 Ni K  0008.dat\n",
      "Error in processing transmittion file: /Users/ryuichi/analysis/20230302/Ni/Ni3 Ni K  0009.dat\n"
     ]
    },
    {
     "name": "stderr",
     "output_type": "stream",
     "text": [
      " 33%|███▎      | 57/173 [00:25<00:40,  2.86it/s]"
     ]
    },
    {
     "name": "stdout",
     "output_type": "stream",
     "text": [
      "Error in processing in reference. File:  /Users/ryuichi/analysis/20230302/Ni/Ni3 Ni K  0009.dat\n",
      "Error in processing transmittion file: /Users/ryuichi/analysis/20230302/Ni/Ni3 Ni K  0010.dat\n"
     ]
    },
    {
     "name": "stderr",
     "output_type": "stream",
     "text": [
      " 34%|███▎      | 58/173 [00:25<00:40,  2.87it/s]"
     ]
    },
    {
     "name": "stdout",
     "output_type": "stream",
     "text": [
      "Error in processing in reference. File:  /Users/ryuichi/analysis/20230302/Ni/Ni3 Ni K  0010.dat\n",
      "Error in processing transmittion file: /Users/ryuichi/analysis/20230302/Ni/Ni3 Ni K  0011.dat\n"
     ]
    },
    {
     "name": "stderr",
     "output_type": "stream",
     "text": [
      " 34%|███▍      | 59/173 [00:26<00:39,  2.86it/s]"
     ]
    },
    {
     "name": "stdout",
     "output_type": "stream",
     "text": [
      "Error in processing in reference. File:  /Users/ryuichi/analysis/20230302/Ni/Ni3 Ni K  0011.dat\n",
      "Error in processing transmittion file: /Users/ryuichi/analysis/20230302/Ni/Ni3 Ni K  0012.dat\n"
     ]
    },
    {
     "name": "stderr",
     "output_type": "stream",
     "text": [
      " 35%|███▍      | 60/173 [00:26<00:51,  2.17it/s]"
     ]
    },
    {
     "name": "stdout",
     "output_type": "stream",
     "text": [
      "Error in processing in reference. File:  /Users/ryuichi/analysis/20230302/Ni/Ni3 Ni K  0012.dat\n",
      "Error in processing transmittion file: /Users/ryuichi/analysis/20230302/Ni/Ni3 Ni K  0013.dat\n"
     ]
    },
    {
     "name": "stderr",
     "output_type": "stream",
     "text": [
      " 35%|███▌      | 61/173 [00:27<00:47,  2.34it/s]"
     ]
    },
    {
     "name": "stdout",
     "output_type": "stream",
     "text": [
      "Error in processing in reference. File:  /Users/ryuichi/analysis/20230302/Ni/Ni3 Ni K  0013.dat\n",
      "Error in processing transmittion file: /Users/ryuichi/analysis/20230302/Ni/Ni3 Ni K  0014.dat\n"
     ]
    },
    {
     "name": "stderr",
     "output_type": "stream",
     "text": [
      " 36%|███▌      | 62/173 [00:27<00:44,  2.48it/s]"
     ]
    },
    {
     "name": "stdout",
     "output_type": "stream",
     "text": [
      "Error in processing in reference. File:  /Users/ryuichi/analysis/20230302/Ni/Ni3 Ni K  0014.dat\n",
      "Error in processing transmittion file: /Users/ryuichi/analysis/20230302/Ni/Ni3 Ni K  0015.dat\n"
     ]
    },
    {
     "name": "stderr",
     "output_type": "stream",
     "text": [
      " 36%|███▋      | 63/173 [00:27<00:42,  2.56it/s]"
     ]
    },
    {
     "name": "stdout",
     "output_type": "stream",
     "text": [
      "Error in processing in reference. File:  /Users/ryuichi/analysis/20230302/Ni/Ni3 Ni K  0015.dat\n",
      "Error in processing transmittion file: /Users/ryuichi/analysis/20230302/Ni/Ni3 Ni K  0016.dat\n"
     ]
    },
    {
     "name": "stderr",
     "output_type": "stream",
     "text": [
      " 37%|███▋      | 64/173 [00:28<00:41,  2.62it/s]"
     ]
    },
    {
     "name": "stdout",
     "output_type": "stream",
     "text": [
      "Error in processing in reference. File:  /Users/ryuichi/analysis/20230302/Ni/Ni3 Ni K  0016.dat\n",
      "Error in processing transmittion file: /Users/ryuichi/analysis/20230302/Ni/Ni3 Ni K  0017.dat\n"
     ]
    },
    {
     "name": "stderr",
     "output_type": "stream",
     "text": [
      " 38%|███▊      | 65/173 [00:28<00:40,  2.70it/s]"
     ]
    },
    {
     "name": "stdout",
     "output_type": "stream",
     "text": [
      "Error in processing in reference. File:  /Users/ryuichi/analysis/20230302/Ni/Ni3 Ni K  0017.dat\n",
      "Error in processing transmittion file: /Users/ryuichi/analysis/20230302/Ni/Ni3 Ni K  0018.dat\n"
     ]
    },
    {
     "name": "stderr",
     "output_type": "stream",
     "text": [
      " 38%|███▊      | 66/173 [00:29<00:38,  2.74it/s]"
     ]
    },
    {
     "name": "stdout",
     "output_type": "stream",
     "text": [
      "Error in processing in reference. File:  /Users/ryuichi/analysis/20230302/Ni/Ni3 Ni K  0018.dat\n",
      "Error in processing transmittion file: /Users/ryuichi/analysis/20230302/Ni/Ni3 Ni K  0019.dat\n"
     ]
    },
    {
     "name": "stderr",
     "output_type": "stream",
     "text": [
      " 39%|███▊      | 67/173 [00:29<00:38,  2.78it/s]"
     ]
    },
    {
     "name": "stdout",
     "output_type": "stream",
     "text": [
      "Error in processing in reference. File:  /Users/ryuichi/analysis/20230302/Ni/Ni3 Ni K  0019.dat\n",
      "Error in processing transmittion file: /Users/ryuichi/analysis/20230302/Ni/Ni3 Ni K  0020.dat\n"
     ]
    },
    {
     "name": "stderr",
     "output_type": "stream",
     "text": [
      " 39%|███▉      | 68/173 [00:29<00:37,  2.80it/s]"
     ]
    },
    {
     "name": "stdout",
     "output_type": "stream",
     "text": [
      "Error in processing in reference. File:  /Users/ryuichi/analysis/20230302/Ni/Ni3 Ni K  0020.dat\n",
      "Error in processing transmittion file: /Users/ryuichi/analysis/20230302/Ni/Ni4 Ni K  0001-r0002.dat\n"
     ]
    },
    {
     "name": "stderr",
     "output_type": "stream",
     "text": [
      " 40%|███▉      | 69/173 [00:30<00:36,  2.83it/s]"
     ]
    },
    {
     "name": "stdout",
     "output_type": "stream",
     "text": [
      "Error in processing in reference. File:  /Users/ryuichi/analysis/20230302/Ni/Ni4 Ni K  0001-r0002.dat\n",
      "Error in processing transmittion file: /Users/ryuichi/analysis/20230302/Ni/Ni4 Ni K  0001.dat\n"
     ]
    },
    {
     "name": "stderr",
     "output_type": "stream",
     "text": [
      " 40%|████      | 70/173 [00:30<00:36,  2.85it/s]"
     ]
    },
    {
     "name": "stdout",
     "output_type": "stream",
     "text": [
      "Error in processing in reference. File:  /Users/ryuichi/analysis/20230302/Ni/Ni4 Ni K  0001.dat\n",
      "Error in processing transmittion file: /Users/ryuichi/analysis/20230302/Ni/Ni4 Ni K  0002.dat\n"
     ]
    },
    {
     "name": "stderr",
     "output_type": "stream",
     "text": [
      " 41%|████      | 71/173 [00:30<00:35,  2.85it/s]"
     ]
    },
    {
     "name": "stdout",
     "output_type": "stream",
     "text": [
      "Error in processing in reference. File:  /Users/ryuichi/analysis/20230302/Ni/Ni4 Ni K  0002.dat\n",
      "Error in processing transmittion file: /Users/ryuichi/analysis/20230302/Ni/Ni4 Ni K  0003.dat\n"
     ]
    },
    {
     "name": "stderr",
     "output_type": "stream",
     "text": [
      " 42%|████▏     | 72/173 [00:31<00:35,  2.87it/s]"
     ]
    },
    {
     "name": "stdout",
     "output_type": "stream",
     "text": [
      "Error in processing in reference. File:  /Users/ryuichi/analysis/20230302/Ni/Ni4 Ni K  0003.dat\n",
      "Error in processing transmittion file: /Users/ryuichi/analysis/20230302/Ni/Ni4 Ni K  0004.dat\n"
     ]
    },
    {
     "name": "stderr",
     "output_type": "stream",
     "text": [
      " 42%|████▏     | 73/173 [00:31<00:34,  2.87it/s]"
     ]
    },
    {
     "name": "stdout",
     "output_type": "stream",
     "text": [
      "Error in processing in reference. File:  /Users/ryuichi/analysis/20230302/Ni/Ni4 Ni K  0004.dat\n",
      "Error in processing transmittion file: /Users/ryuichi/analysis/20230302/Ni/Ni4 Ni K  0005.dat\n"
     ]
    },
    {
     "name": "stderr",
     "output_type": "stream",
     "text": [
      " 43%|████▎     | 74/173 [00:31<00:34,  2.88it/s]"
     ]
    },
    {
     "name": "stdout",
     "output_type": "stream",
     "text": [
      "Error in processing in reference. File:  /Users/ryuichi/analysis/20230302/Ni/Ni4 Ni K  0005.dat\n",
      "Error in processing transmittion file: /Users/ryuichi/analysis/20230302/Ni/Ni4 Ni K  0006.dat\n"
     ]
    },
    {
     "name": "stderr",
     "output_type": "stream",
     "text": [
      " 43%|████▎     | 75/173 [00:32<00:34,  2.87it/s]"
     ]
    },
    {
     "name": "stdout",
     "output_type": "stream",
     "text": [
      "Error in processing in reference. File:  /Users/ryuichi/analysis/20230302/Ni/Ni4 Ni K  0006.dat\n",
      "Error in processing transmittion file: /Users/ryuichi/analysis/20230302/Ni/Ni4 Ni K  0007.dat\n"
     ]
    },
    {
     "name": "stderr",
     "output_type": "stream",
     "text": [
      " 44%|████▍     | 76/173 [00:32<00:33,  2.88it/s]"
     ]
    },
    {
     "name": "stdout",
     "output_type": "stream",
     "text": [
      "Error in processing in reference. File:  /Users/ryuichi/analysis/20230302/Ni/Ni4 Ni K  0007.dat\n",
      "Error in processing transmittion file: /Users/ryuichi/analysis/20230302/Ni/Ni4 Ni K  0008.dat\n"
     ]
    },
    {
     "name": "stderr",
     "output_type": "stream",
     "text": [
      " 45%|████▍     | 77/173 [00:33<00:46,  2.06it/s]"
     ]
    },
    {
     "name": "stdout",
     "output_type": "stream",
     "text": [
      "Error in processing in reference. File:  /Users/ryuichi/analysis/20230302/Ni/Ni4 Ni K  0008.dat\n",
      "Error in processing transmittion file: /Users/ryuichi/analysis/20230302/Ni/Ni4 Ni K  0009.dat\n"
     ]
    },
    {
     "name": "stderr",
     "output_type": "stream",
     "text": [
      " 45%|████▌     | 78/173 [00:33<00:42,  2.24it/s]"
     ]
    },
    {
     "name": "stdout",
     "output_type": "stream",
     "text": [
      "Error in processing in reference. File:  /Users/ryuichi/analysis/20230302/Ni/Ni4 Ni K  0009.dat\n",
      "Error in processing transmittion file: /Users/ryuichi/analysis/20230302/Ni/Ni4 Ni K  0010.dat\n"
     ]
    },
    {
     "name": "stderr",
     "output_type": "stream",
     "text": [
      " 46%|████▌     | 79/173 [00:34<00:39,  2.40it/s]"
     ]
    },
    {
     "name": "stdout",
     "output_type": "stream",
     "text": [
      "Error in processing in reference. File:  /Users/ryuichi/analysis/20230302/Ni/Ni4 Ni K  0010.dat\n",
      "Error in processing transmittion file: /Users/ryuichi/analysis/20230302/Ni/Ni4 Ni K  0011.dat\n"
     ]
    },
    {
     "name": "stderr",
     "output_type": "stream",
     "text": [
      " 46%|████▌     | 80/173 [00:34<00:36,  2.53it/s]"
     ]
    },
    {
     "name": "stdout",
     "output_type": "stream",
     "text": [
      "Error in processing in reference. File:  /Users/ryuichi/analysis/20230302/Ni/Ni4 Ni K  0011.dat\n",
      "Error in processing transmittion file: /Users/ryuichi/analysis/20230302/Ni/Ni4 Ni K  0012.dat\n"
     ]
    },
    {
     "name": "stderr",
     "output_type": "stream",
     "text": [
      " 47%|████▋     | 81/173 [00:34<00:35,  2.61it/s]"
     ]
    },
    {
     "name": "stdout",
     "output_type": "stream",
     "text": [
      "Error in processing in reference. File:  /Users/ryuichi/analysis/20230302/Ni/Ni4 Ni K  0012.dat\n",
      "Error in processing transmittion file: /Users/ryuichi/analysis/20230302/Ni/Ni4 Ni K  0013.dat\n"
     ]
    },
    {
     "name": "stderr",
     "output_type": "stream",
     "text": [
      " 47%|████▋     | 82/173 [00:35<00:33,  2.69it/s]"
     ]
    },
    {
     "name": "stdout",
     "output_type": "stream",
     "text": [
      "Error in processing in reference. File:  /Users/ryuichi/analysis/20230302/Ni/Ni4 Ni K  0013.dat\n",
      "Error in processing transmittion file: /Users/ryuichi/analysis/20230302/Ni/Ni4 Ni K  0014.dat\n"
     ]
    },
    {
     "name": "stderr",
     "output_type": "stream",
     "text": [
      " 48%|████▊     | 83/173 [00:35<00:32,  2.75it/s]"
     ]
    },
    {
     "name": "stdout",
     "output_type": "stream",
     "text": [
      "Error in processing in reference. File:  /Users/ryuichi/analysis/20230302/Ni/Ni4 Ni K  0014.dat\n",
      "Error in processing transmittion file: /Users/ryuichi/analysis/20230302/Ni/Ni4 Ni K  0015.dat\n"
     ]
    },
    {
     "name": "stderr",
     "output_type": "stream",
     "text": [
      " 49%|████▊     | 84/173 [00:35<00:31,  2.79it/s]"
     ]
    },
    {
     "name": "stdout",
     "output_type": "stream",
     "text": [
      "Error in processing in reference. File:  /Users/ryuichi/analysis/20230302/Ni/Ni4 Ni K  0015.dat\n",
      "Error in processing transmittion file: /Users/ryuichi/analysis/20230302/Ni/Ni4 Ni K  0016.dat\n"
     ]
    },
    {
     "name": "stderr",
     "output_type": "stream",
     "text": [
      " 49%|████▉     | 85/173 [00:36<00:31,  2.81it/s]"
     ]
    },
    {
     "name": "stdout",
     "output_type": "stream",
     "text": [
      "Error in processing in reference. File:  /Users/ryuichi/analysis/20230302/Ni/Ni4 Ni K  0016.dat\n",
      "Error in processing transmittion file: /Users/ryuichi/analysis/20230302/Ni/Ni4 Ni K  0017.dat\n"
     ]
    },
    {
     "name": "stderr",
     "output_type": "stream",
     "text": [
      " 50%|████▉     | 86/173 [00:36<00:30,  2.83it/s]"
     ]
    },
    {
     "name": "stdout",
     "output_type": "stream",
     "text": [
      "Error in processing in reference. File:  /Users/ryuichi/analysis/20230302/Ni/Ni4 Ni K  0017.dat\n",
      "Error in processing transmittion file: /Users/ryuichi/analysis/20230302/Ni/Ni4 Ni K  0018.dat\n"
     ]
    },
    {
     "name": "stderr",
     "output_type": "stream",
     "text": [
      " 50%|█████     | 87/173 [00:36<00:30,  2.85it/s]"
     ]
    },
    {
     "name": "stdout",
     "output_type": "stream",
     "text": [
      "Error in processing in reference. File:  /Users/ryuichi/analysis/20230302/Ni/Ni4 Ni K  0018.dat\n",
      "Error in processing transmittion file: /Users/ryuichi/analysis/20230302/Ni/Ni4 Ni K  0019.dat\n"
     ]
    },
    {
     "name": "stderr",
     "output_type": "stream",
     "text": [
      " 51%|█████     | 88/173 [00:37<00:29,  2.86it/s]"
     ]
    },
    {
     "name": "stdout",
     "output_type": "stream",
     "text": [
      "Error in processing in reference. File:  /Users/ryuichi/analysis/20230302/Ni/Ni4 Ni K  0019.dat\n",
      "Error in processing transmittion file: /Users/ryuichi/analysis/20230302/Ni/Ni4 Ni K  0020.dat\n"
     ]
    },
    {
     "name": "stderr",
     "output_type": "stream",
     "text": [
      " 51%|█████▏    | 89/173 [00:37<00:29,  2.87it/s]"
     ]
    },
    {
     "name": "stdout",
     "output_type": "stream",
     "text": [
      "Error in processing in reference. File:  /Users/ryuichi/analysis/20230302/Ni/Ni4 Ni K  0020.dat\n",
      "Error in processing transmittion file: /Users/ryuichi/analysis/20230302/Ni/Ni5 Ni K  0001-r0002.dat\n"
     ]
    },
    {
     "name": "stderr",
     "output_type": "stream",
     "text": [
      " 52%|█████▏    | 90/173 [00:37<00:28,  2.88it/s]"
     ]
    },
    {
     "name": "stdout",
     "output_type": "stream",
     "text": [
      "Error in processing in reference. File:  /Users/ryuichi/analysis/20230302/Ni/Ni5 Ni K  0001-r0002.dat\n",
      "Error in processing transmittion file: /Users/ryuichi/analysis/20230302/Ni/Ni5 Ni K  0001.dat\n"
     ]
    },
    {
     "name": "stderr",
     "output_type": "stream",
     "text": [
      " 53%|█████▎    | 91/173 [00:38<00:28,  2.89it/s]"
     ]
    },
    {
     "name": "stdout",
     "output_type": "stream",
     "text": [
      "Error in processing in reference. File:  /Users/ryuichi/analysis/20230302/Ni/Ni5 Ni K  0001.dat\n",
      "Error in processing transmittion file: /Users/ryuichi/analysis/20230302/Ni/Ni5 Ni K  0002.dat\n"
     ]
    },
    {
     "name": "stderr",
     "output_type": "stream",
     "text": [
      " 53%|█████▎    | 92/173 [00:38<00:28,  2.89it/s]"
     ]
    },
    {
     "name": "stdout",
     "output_type": "stream",
     "text": [
      "Error in processing in reference. File:  /Users/ryuichi/analysis/20230302/Ni/Ni5 Ni K  0002.dat\n",
      "Error in processing transmittion file: /Users/ryuichi/analysis/20230302/Ni/Ni5 Ni K  0003.dat\n"
     ]
    },
    {
     "name": "stderr",
     "output_type": "stream",
     "text": [
      " 54%|█████▍    | 93/173 [00:38<00:27,  2.89it/s]"
     ]
    },
    {
     "name": "stdout",
     "output_type": "stream",
     "text": [
      "Error in processing in reference. File:  /Users/ryuichi/analysis/20230302/Ni/Ni5 Ni K  0003.dat\n",
      "Error in processing transmittion file: /Users/ryuichi/analysis/20230302/Ni/Ni5 Ni K  0004.dat\n"
     ]
    },
    {
     "name": "stderr",
     "output_type": "stream",
     "text": [
      " 54%|█████▍    | 94/173 [00:39<00:27,  2.88it/s]"
     ]
    },
    {
     "name": "stdout",
     "output_type": "stream",
     "text": [
      "Error in processing in reference. File:  /Users/ryuichi/analysis/20230302/Ni/Ni5 Ni K  0004.dat\n",
      "Error in processing transmittion file: /Users/ryuichi/analysis/20230302/Ni/Ni5 Ni K  0005.dat\n"
     ]
    },
    {
     "name": "stderr",
     "output_type": "stream",
     "text": [
      " 55%|█████▍    | 95/173 [00:39<00:26,  2.89it/s]"
     ]
    },
    {
     "name": "stdout",
     "output_type": "stream",
     "text": [
      "Error in processing in reference. File:  /Users/ryuichi/analysis/20230302/Ni/Ni5 Ni K  0005.dat\n",
      "Error in processing transmittion file: /Users/ryuichi/analysis/20230302/Ni/Ni5 Ni K  0006.dat\n"
     ]
    },
    {
     "name": "stderr",
     "output_type": "stream",
     "text": [
      " 55%|█████▌    | 96/173 [00:39<00:26,  2.88it/s]"
     ]
    },
    {
     "name": "stdout",
     "output_type": "stream",
     "text": [
      "Error in processing in reference. File:  /Users/ryuichi/analysis/20230302/Ni/Ni5 Ni K  0006.dat\n",
      "Error in processing transmittion file: /Users/ryuichi/analysis/20230302/Ni/Ni5 Ni K  0007.dat\n"
     ]
    },
    {
     "name": "stderr",
     "output_type": "stream",
     "text": [
      " 56%|█████▌    | 97/173 [00:40<00:39,  1.90it/s]"
     ]
    },
    {
     "name": "stdout",
     "output_type": "stream",
     "text": [
      "Error in processing in reference. File:  /Users/ryuichi/analysis/20230302/Ni/Ni5 Ni K  0007.dat\n",
      "Error in processing transmittion file: /Users/ryuichi/analysis/20230302/Ni/Ni5 Ni K  0008.dat\n"
     ]
    },
    {
     "name": "stderr",
     "output_type": "stream",
     "text": [
      " 57%|█████▋    | 98/173 [00:41<00:35,  2.10it/s]"
     ]
    },
    {
     "name": "stdout",
     "output_type": "stream",
     "text": [
      "Error in processing in reference. File:  /Users/ryuichi/analysis/20230302/Ni/Ni5 Ni K  0008.dat\n",
      "Error in processing transmittion file: /Users/ryuichi/analysis/20230302/Ni/Ni5 Ni K  0009.dat\n"
     ]
    },
    {
     "name": "stderr",
     "output_type": "stream",
     "text": [
      " 57%|█████▋    | 99/173 [00:41<00:32,  2.29it/s]"
     ]
    },
    {
     "name": "stdout",
     "output_type": "stream",
     "text": [
      "Error in processing in reference. File:  /Users/ryuichi/analysis/20230302/Ni/Ni5 Ni K  0009.dat\n",
      "Error in processing transmittion file: /Users/ryuichi/analysis/20230302/Ni/Ni5 Ni K  0010.dat\n"
     ]
    },
    {
     "name": "stderr",
     "output_type": "stream",
     "text": [
      " 58%|█████▊    | 100/173 [00:41<00:29,  2.43it/s]"
     ]
    },
    {
     "name": "stdout",
     "output_type": "stream",
     "text": [
      "Error in processing in reference. File:  /Users/ryuichi/analysis/20230302/Ni/Ni5 Ni K  0010.dat\n",
      "Error in processing transmittion file: /Users/ryuichi/analysis/20230302/Ni/Ni5 Ni K  0011.dat\n"
     ]
    },
    {
     "name": "stderr",
     "output_type": "stream",
     "text": [
      " 58%|█████▊    | 101/173 [00:42<00:28,  2.55it/s]"
     ]
    },
    {
     "name": "stdout",
     "output_type": "stream",
     "text": [
      "Error in processing in reference. File:  /Users/ryuichi/analysis/20230302/Ni/Ni5 Ni K  0011.dat\n",
      "Error in processing transmittion file: /Users/ryuichi/analysis/20230302/Ni/Ni5 Ni K  0012.dat\n"
     ]
    },
    {
     "name": "stderr",
     "output_type": "stream",
     "text": [
      " 59%|█████▉    | 102/173 [00:42<00:26,  2.64it/s]"
     ]
    },
    {
     "name": "stdout",
     "output_type": "stream",
     "text": [
      "Error in processing in reference. File:  /Users/ryuichi/analysis/20230302/Ni/Ni5 Ni K  0012.dat\n",
      "Error in processing transmittion file: /Users/ryuichi/analysis/20230302/Ni/Ni5 Ni K  0013.dat\n"
     ]
    },
    {
     "name": "stderr",
     "output_type": "stream",
     "text": [
      " 60%|█████▉    | 103/173 [00:42<00:25,  2.71it/s]"
     ]
    },
    {
     "name": "stdout",
     "output_type": "stream",
     "text": [
      "Error in processing in reference. File:  /Users/ryuichi/analysis/20230302/Ni/Ni5 Ni K  0013.dat\n",
      "Error in processing transmittion file: /Users/ryuichi/analysis/20230302/Ni/Ni5 Ni K  0014.dat\n"
     ]
    },
    {
     "name": "stderr",
     "output_type": "stream",
     "text": [
      " 60%|██████    | 104/173 [00:43<00:25,  2.75it/s]"
     ]
    },
    {
     "name": "stdout",
     "output_type": "stream",
     "text": [
      "Error in processing in reference. File:  /Users/ryuichi/analysis/20230302/Ni/Ni5 Ni K  0014.dat\n",
      "Error in processing transmittion file: /Users/ryuichi/analysis/20230302/Ni/Ni5 Ni K  0015.dat\n"
     ]
    },
    {
     "name": "stderr",
     "output_type": "stream",
     "text": [
      " 61%|██████    | 105/173 [00:43<00:24,  2.78it/s]"
     ]
    },
    {
     "name": "stdout",
     "output_type": "stream",
     "text": [
      "Error in processing in reference. File:  /Users/ryuichi/analysis/20230302/Ni/Ni5 Ni K  0015.dat\n",
      "Error in processing transmittion file: /Users/ryuichi/analysis/20230302/Ni/Ni5 Ni K  0016.dat\n"
     ]
    },
    {
     "name": "stderr",
     "output_type": "stream",
     "text": [
      " 61%|██████▏   | 106/173 [00:44<00:23,  2.81it/s]"
     ]
    },
    {
     "name": "stdout",
     "output_type": "stream",
     "text": [
      "Error in processing in reference. File:  /Users/ryuichi/analysis/20230302/Ni/Ni5 Ni K  0016.dat\n",
      "Error in processing transmittion file: /Users/ryuichi/analysis/20230302/Ni/Ni5 Ni K  0017.dat\n"
     ]
    },
    {
     "name": "stderr",
     "output_type": "stream",
     "text": [
      " 62%|██████▏   | 107/173 [00:44<00:23,  2.83it/s]"
     ]
    },
    {
     "name": "stdout",
     "output_type": "stream",
     "text": [
      "Error in processing in reference. File:  /Users/ryuichi/analysis/20230302/Ni/Ni5 Ni K  0017.dat\n",
      "Error in processing transmittion file: /Users/ryuichi/analysis/20230302/Ni/Ni5 Ni K  0018.dat\n"
     ]
    },
    {
     "name": "stderr",
     "output_type": "stream",
     "text": [
      " 62%|██████▏   | 108/173 [00:44<00:22,  2.84it/s]"
     ]
    },
    {
     "name": "stdout",
     "output_type": "stream",
     "text": [
      "Error in processing in reference. File:  /Users/ryuichi/analysis/20230302/Ni/Ni5 Ni K  0018.dat\n",
      "Error in processing transmittion file: /Users/ryuichi/analysis/20230302/Ni/Ni5 Ni K  0019.dat\n"
     ]
    },
    {
     "name": "stderr",
     "output_type": "stream",
     "text": [
      " 63%|██████▎   | 109/173 [00:45<00:22,  2.86it/s]"
     ]
    },
    {
     "name": "stdout",
     "output_type": "stream",
     "text": [
      "Error in processing in reference. File:  /Users/ryuichi/analysis/20230302/Ni/Ni5 Ni K  0019.dat\n",
      "Error in processing transmittion file: /Users/ryuichi/analysis/20230302/Ni/Ni5 Ni K  0020.dat\n"
     ]
    },
    {
     "name": "stderr",
     "output_type": "stream",
     "text": [
      " 64%|██████▎   | 110/173 [00:45<00:21,  2.87it/s]"
     ]
    },
    {
     "name": "stdout",
     "output_type": "stream",
     "text": [
      "Error in processing in reference. File:  /Users/ryuichi/analysis/20230302/Ni/Ni5 Ni K  0020.dat\n",
      "Error in processing transmittion file: /Users/ryuichi/analysis/20230302/Ni/Ni6 Ni K  0001-r0002.dat\n"
     ]
    },
    {
     "name": "stderr",
     "output_type": "stream",
     "text": [
      " 64%|██████▍   | 111/173 [00:45<00:21,  2.88it/s]"
     ]
    },
    {
     "name": "stdout",
     "output_type": "stream",
     "text": [
      "Error in processing in reference. File:  /Users/ryuichi/analysis/20230302/Ni/Ni6 Ni K  0001-r0002.dat\n",
      "Error in processing transmittion file: /Users/ryuichi/analysis/20230302/Ni/Ni6 Ni K  0001.dat\n"
     ]
    },
    {
     "name": "stderr",
     "output_type": "stream",
     "text": [
      "/Users/ryuichi/mambaforge/envs/larch/lib/python3.9/site-packages/larch/xafs/pre_edge.py:265: RankWarning: Polyfit may be poorly conditioned\n",
      "  pre_dat = preedge(energy, mu, e0=e0, step=step, nnorm=nnorm,\n",
      " 65%|██████▍   | 112/173 [00:46<00:21,  2.87it/s]"
     ]
    },
    {
     "name": "stdout",
     "output_type": "stream",
     "text": [
      "Error in processing in reference. File:  /Users/ryuichi/analysis/20230302/Ni/Ni6 Ni K  0001.dat\n",
      "Error in processing transmittion file: /Users/ryuichi/analysis/20230302/Ni/Ni6 Ni K  0002.dat\n"
     ]
    },
    {
     "name": "stderr",
     "output_type": "stream",
     "text": [
      " 65%|██████▌   | 113/173 [00:46<00:20,  2.88it/s]"
     ]
    },
    {
     "name": "stdout",
     "output_type": "stream",
     "text": [
      "Error in processing in reference. File:  /Users/ryuichi/analysis/20230302/Ni/Ni6 Ni K  0002.dat\n",
      "Error in processing transmittion file: /Users/ryuichi/analysis/20230302/Ni/Ni6 Ni K  0003.dat\n"
     ]
    },
    {
     "name": "stderr",
     "output_type": "stream",
     "text": [
      " 66%|██████▌   | 114/173 [00:46<00:20,  2.89it/s]"
     ]
    },
    {
     "name": "stdout",
     "output_type": "stream",
     "text": [
      "Error in processing in reference. File:  /Users/ryuichi/analysis/20230302/Ni/Ni6 Ni K  0003.dat\n",
      "Error in processing transmittion file: /Users/ryuichi/analysis/20230302/Ni/Ni6 Ni K  0004.dat\n"
     ]
    },
    {
     "name": "stderr",
     "output_type": "stream",
     "text": [
      " 66%|██████▋   | 115/173 [00:47<00:20,  2.89it/s]"
     ]
    },
    {
     "name": "stdout",
     "output_type": "stream",
     "text": [
      "Error in processing in reference. File:  /Users/ryuichi/analysis/20230302/Ni/Ni6 Ni K  0004.dat\n",
      "Error in processing transmittion file: /Users/ryuichi/analysis/20230302/Ni/Ni6 Ni K  0005.dat\n"
     ]
    },
    {
     "name": "stderr",
     "output_type": "stream",
     "text": [
      " 67%|██████▋   | 116/173 [00:47<00:19,  2.88it/s]"
     ]
    },
    {
     "name": "stdout",
     "output_type": "stream",
     "text": [
      "Error in processing in reference. File:  /Users/ryuichi/analysis/20230302/Ni/Ni6 Ni K  0005.dat\n",
      "Error in processing transmittion file: /Users/ryuichi/analysis/20230302/Ni/Ni6 Ni K  0006.dat\n"
     ]
    },
    {
     "name": "stderr",
     "output_type": "stream",
     "text": [
      " 68%|██████▊   | 117/173 [00:47<00:19,  2.88it/s]"
     ]
    },
    {
     "name": "stdout",
     "output_type": "stream",
     "text": [
      "Error in processing in reference. File:  /Users/ryuichi/analysis/20230302/Ni/Ni6 Ni K  0006.dat\n",
      "Error in processing transmittion file: /Users/ryuichi/analysis/20230302/Ni/Ni6 Ni K  0007.dat\n"
     ]
    },
    {
     "name": "stderr",
     "output_type": "stream",
     "text": [
      " 68%|██████▊   | 118/173 [00:48<00:19,  2.88it/s]"
     ]
    },
    {
     "name": "stdout",
     "output_type": "stream",
     "text": [
      "Error in processing in reference. File:  /Users/ryuichi/analysis/20230302/Ni/Ni6 Ni K  0007.dat\n",
      "Error in processing transmittion file: /Users/ryuichi/analysis/20230302/Ni/Ni6 Ni K  0008.dat\n"
     ]
    },
    {
     "name": "stderr",
     "output_type": "stream",
     "text": [
      " 69%|██████▉   | 119/173 [00:48<00:18,  2.87it/s]"
     ]
    },
    {
     "name": "stdout",
     "output_type": "stream",
     "text": [
      "Error in processing in reference. File:  /Users/ryuichi/analysis/20230302/Ni/Ni6 Ni K  0008.dat\n",
      "Error in processing transmittion file: /Users/ryuichi/analysis/20230302/Ni/Ni6 Ni K  0009.dat\n"
     ]
    },
    {
     "name": "stderr",
     "output_type": "stream",
     "text": [
      " 69%|██████▉   | 120/173 [00:48<00:18,  2.87it/s]"
     ]
    },
    {
     "name": "stdout",
     "output_type": "stream",
     "text": [
      "Error in processing in reference. File:  /Users/ryuichi/analysis/20230302/Ni/Ni6 Ni K  0009.dat\n",
      "Error in processing transmittion file: /Users/ryuichi/analysis/20230302/Ni/Ni6 Ni K  0010.dat\n"
     ]
    },
    {
     "name": "stderr",
     "output_type": "stream",
     "text": [
      " 70%|██████▉   | 121/173 [00:49<00:29,  1.77it/s]"
     ]
    },
    {
     "name": "stdout",
     "output_type": "stream",
     "text": [
      "Error in processing in reference. File:  /Users/ryuichi/analysis/20230302/Ni/Ni6 Ni K  0010.dat\n",
      "Error in processing transmittion file: /Users/ryuichi/analysis/20230302/Ni/Ni6 Ni K  0011.dat\n"
     ]
    },
    {
     "name": "stderr",
     "output_type": "stream",
     "text": [
      " 71%|███████   | 122/173 [00:50<00:25,  1.99it/s]"
     ]
    },
    {
     "name": "stdout",
     "output_type": "stream",
     "text": [
      "Error in processing in reference. File:  /Users/ryuichi/analysis/20230302/Ni/Ni6 Ni K  0011.dat\n",
      "Error in processing transmittion file: /Users/ryuichi/analysis/20230302/Ni/Ni6 Ni K  0012.dat\n"
     ]
    },
    {
     "name": "stderr",
     "output_type": "stream",
     "text": [
      " 71%|███████   | 123/173 [00:50<00:22,  2.19it/s]"
     ]
    },
    {
     "name": "stdout",
     "output_type": "stream",
     "text": [
      "Error in processing in reference. File:  /Users/ryuichi/analysis/20230302/Ni/Ni6 Ni K  0012.dat\n",
      "Error in processing transmittion file: /Users/ryuichi/analysis/20230302/Ni/Ni6 Ni K  0013.dat\n"
     ]
    },
    {
     "name": "stderr",
     "output_type": "stream",
     "text": [
      " 72%|███████▏  | 124/173 [00:51<00:20,  2.35it/s]"
     ]
    },
    {
     "name": "stdout",
     "output_type": "stream",
     "text": [
      "Error in processing in reference. File:  /Users/ryuichi/analysis/20230302/Ni/Ni6 Ni K  0013.dat\n",
      "Error in processing transmittion file: /Users/ryuichi/analysis/20230302/Ni/Ni6 Ni K  0014.dat\n"
     ]
    },
    {
     "name": "stderr",
     "output_type": "stream",
     "text": [
      " 72%|███████▏  | 125/173 [00:51<00:19,  2.48it/s]"
     ]
    },
    {
     "name": "stdout",
     "output_type": "stream",
     "text": [
      "Error in processing in reference. File:  /Users/ryuichi/analysis/20230302/Ni/Ni6 Ni K  0014.dat\n",
      "Error in processing transmittion file: /Users/ryuichi/analysis/20230302/Ni/Ni6 Ni K  0015.dat\n"
     ]
    },
    {
     "name": "stderr",
     "output_type": "stream",
     "text": [
      " 73%|███████▎  | 126/173 [00:51<00:18,  2.58it/s]"
     ]
    },
    {
     "name": "stdout",
     "output_type": "stream",
     "text": [
      "Error in processing in reference. File:  /Users/ryuichi/analysis/20230302/Ni/Ni6 Ni K  0015.dat\n",
      "Error in processing transmittion file: /Users/ryuichi/analysis/20230302/Ni/Ni6 Ni K  0016.dat\n"
     ]
    },
    {
     "name": "stderr",
     "output_type": "stream",
     "text": [
      " 73%|███████▎  | 127/173 [00:52<00:17,  2.66it/s]"
     ]
    },
    {
     "name": "stdout",
     "output_type": "stream",
     "text": [
      "Error in processing in reference. File:  /Users/ryuichi/analysis/20230302/Ni/Ni6 Ni K  0016.dat\n",
      "Error in processing transmittion file: /Users/ryuichi/analysis/20230302/Ni/Ni6 Ni K  0017.dat\n"
     ]
    },
    {
     "name": "stderr",
     "output_type": "stream",
     "text": [
      " 74%|███████▍  | 128/173 [00:52<00:16,  2.71it/s]"
     ]
    },
    {
     "name": "stdout",
     "output_type": "stream",
     "text": [
      "Error in processing in reference. File:  /Users/ryuichi/analysis/20230302/Ni/Ni6 Ni K  0017.dat\n",
      "Error in processing transmittion file: /Users/ryuichi/analysis/20230302/Ni/Ni6 Ni K  0018.dat\n"
     ]
    },
    {
     "name": "stderr",
     "output_type": "stream",
     "text": [
      " 75%|███████▍  | 129/173 [00:52<00:15,  2.75it/s]"
     ]
    },
    {
     "name": "stdout",
     "output_type": "stream",
     "text": [
      "Error in processing in reference. File:  /Users/ryuichi/analysis/20230302/Ni/Ni6 Ni K  0018.dat\n",
      "Error in processing transmittion file: /Users/ryuichi/analysis/20230302/Ni/Ni6 Ni K  0019.dat\n"
     ]
    },
    {
     "name": "stderr",
     "output_type": "stream",
     "text": [
      " 75%|███████▌  | 130/173 [00:53<00:15,  2.79it/s]"
     ]
    },
    {
     "name": "stdout",
     "output_type": "stream",
     "text": [
      "Error in processing in reference. File:  /Users/ryuichi/analysis/20230302/Ni/Ni6 Ni K  0019.dat\n",
      "Error in processing transmittion file: /Users/ryuichi/analysis/20230302/Ni/Ni6 Ni K  0020.dat\n"
     ]
    },
    {
     "name": "stderr",
     "output_type": "stream",
     "text": [
      " 76%|███████▌  | 131/173 [00:53<00:14,  2.81it/s]"
     ]
    },
    {
     "name": "stdout",
     "output_type": "stream",
     "text": [
      "Error in processing in reference. File:  /Users/ryuichi/analysis/20230302/Ni/Ni6 Ni K  0020.dat\n",
      "Error in processing transmittion file: /Users/ryuichi/analysis/20230302/Ni/Ni7 Ni K  0001-r0002.dat\n"
     ]
    },
    {
     "name": "stderr",
     "output_type": "stream",
     "text": [
      " 76%|███████▋  | 132/173 [00:53<00:14,  2.83it/s]"
     ]
    },
    {
     "name": "stdout",
     "output_type": "stream",
     "text": [
      "Error in processing in reference. File:  /Users/ryuichi/analysis/20230302/Ni/Ni7 Ni K  0001-r0002.dat\n",
      "Error in processing transmittion file: /Users/ryuichi/analysis/20230302/Ni/Ni7 Ni K  0001.dat\n"
     ]
    },
    {
     "name": "stderr",
     "output_type": "stream",
     "text": [
      "/Users/ryuichi/mambaforge/envs/larch/lib/python3.9/site-packages/larch/xafs/pre_edge.py:265: RankWarning: Polyfit may be poorly conditioned\n",
      "  pre_dat = preedge(energy, mu, e0=e0, step=step, nnorm=nnorm,\n",
      " 77%|███████▋  | 133/173 [00:54<00:14,  2.85it/s]"
     ]
    },
    {
     "name": "stdout",
     "output_type": "stream",
     "text": [
      "Error in processing in reference. File:  /Users/ryuichi/analysis/20230302/Ni/Ni7 Ni K  0001.dat\n",
      "Error in processing transmittion file: /Users/ryuichi/analysis/20230302/Ni/Ni7 Ni K  0002.dat\n"
     ]
    },
    {
     "name": "stderr",
     "output_type": "stream",
     "text": [
      " 77%|███████▋  | 134/173 [00:54<00:13,  2.86it/s]"
     ]
    },
    {
     "name": "stdout",
     "output_type": "stream",
     "text": [
      "Error in processing in reference. File:  /Users/ryuichi/analysis/20230302/Ni/Ni7 Ni K  0002.dat\n",
      "Error in processing transmittion file: /Users/ryuichi/analysis/20230302/Ni/Ni7 Ni K  0003.dat\n"
     ]
    },
    {
     "name": "stderr",
     "output_type": "stream",
     "text": [
      " 78%|███████▊  | 135/173 [00:54<00:13,  2.87it/s]"
     ]
    },
    {
     "name": "stdout",
     "output_type": "stream",
     "text": [
      "Error in processing in reference. File:  /Users/ryuichi/analysis/20230302/Ni/Ni7 Ni K  0003.dat\n",
      "Error in processing transmittion file: /Users/ryuichi/analysis/20230302/Ni/Ni7 Ni K  0004.dat\n"
     ]
    },
    {
     "name": "stderr",
     "output_type": "stream",
     "text": [
      " 79%|███████▊  | 136/173 [00:55<00:12,  2.87it/s]"
     ]
    },
    {
     "name": "stdout",
     "output_type": "stream",
     "text": [
      "Error in processing in reference. File:  /Users/ryuichi/analysis/20230302/Ni/Ni7 Ni K  0004.dat\n",
      "Error in processing transmittion file: /Users/ryuichi/analysis/20230302/Ni/Ni7 Ni K  0005.dat\n"
     ]
    },
    {
     "name": "stderr",
     "output_type": "stream",
     "text": [
      " 79%|███████▉  | 137/173 [00:55<00:12,  2.88it/s]"
     ]
    },
    {
     "name": "stdout",
     "output_type": "stream",
     "text": [
      "Error in processing in reference. File:  /Users/ryuichi/analysis/20230302/Ni/Ni7 Ni K  0005.dat\n",
      "Error in processing transmittion file: /Users/ryuichi/analysis/20230302/Ni/Ni7 Ni K  0006.dat\n"
     ]
    },
    {
     "name": "stderr",
     "output_type": "stream",
     "text": [
      " 80%|███████▉  | 138/173 [00:55<00:12,  2.88it/s]"
     ]
    },
    {
     "name": "stdout",
     "output_type": "stream",
     "text": [
      "Error in processing in reference. File:  /Users/ryuichi/analysis/20230302/Ni/Ni7 Ni K  0006.dat\n",
      "Error in processing transmittion file: /Users/ryuichi/analysis/20230302/Ni/Ni7 Ni K  0007.dat\n"
     ]
    },
    {
     "name": "stderr",
     "output_type": "stream",
     "text": [
      " 80%|████████  | 139/173 [00:56<00:11,  2.88it/s]"
     ]
    },
    {
     "name": "stdout",
     "output_type": "stream",
     "text": [
      "Error in processing in reference. File:  /Users/ryuichi/analysis/20230302/Ni/Ni7 Ni K  0007.dat\n",
      "Error in processing transmittion file: /Users/ryuichi/analysis/20230302/Ni/Ni7 Ni K  0008.dat\n"
     ]
    },
    {
     "name": "stderr",
     "output_type": "stream",
     "text": [
      " 81%|████████  | 140/173 [00:56<00:11,  2.89it/s]"
     ]
    },
    {
     "name": "stdout",
     "output_type": "stream",
     "text": [
      "Error in processing in reference. File:  /Users/ryuichi/analysis/20230302/Ni/Ni7 Ni K  0008.dat\n",
      "Error in processing transmittion file: /Users/ryuichi/analysis/20230302/Ni/Ni7 Ni K  0009.dat\n"
     ]
    },
    {
     "name": "stderr",
     "output_type": "stream",
     "text": [
      " 82%|████████▏ | 141/173 [00:56<00:11,  2.89it/s]"
     ]
    },
    {
     "name": "stdout",
     "output_type": "stream",
     "text": [
      "Error in processing in reference. File:  /Users/ryuichi/analysis/20230302/Ni/Ni7 Ni K  0009.dat\n",
      "Error in processing transmittion file: /Users/ryuichi/analysis/20230302/Ni/Ni7 Ni K  0010.dat\n"
     ]
    },
    {
     "name": "stderr",
     "output_type": "stream",
     "text": [
      " 82%|████████▏ | 142/173 [00:57<00:10,  2.89it/s]"
     ]
    },
    {
     "name": "stdout",
     "output_type": "stream",
     "text": [
      "Error in processing in reference. File:  /Users/ryuichi/analysis/20230302/Ni/Ni7 Ni K  0010.dat\n",
      "Error in processing transmittion file: /Users/ryuichi/analysis/20230302/Ni/Ni7 Ni K  0011.dat\n"
     ]
    },
    {
     "name": "stderr",
     "output_type": "stream",
     "text": [
      " 83%|████████▎ | 143/173 [00:57<00:10,  2.89it/s]"
     ]
    },
    {
     "name": "stdout",
     "output_type": "stream",
     "text": [
      "Error in processing in reference. File:  /Users/ryuichi/analysis/20230302/Ni/Ni7 Ni K  0011.dat\n",
      "Error in processing transmittion file: /Users/ryuichi/analysis/20230302/Ni/Ni7 Ni K  0012.dat\n"
     ]
    },
    {
     "name": "stderr",
     "output_type": "stream",
     "text": [
      " 83%|████████▎ | 144/173 [00:57<00:10,  2.90it/s]"
     ]
    },
    {
     "name": "stdout",
     "output_type": "stream",
     "text": [
      "Error in processing in reference. File:  /Users/ryuichi/analysis/20230302/Ni/Ni7 Ni K  0012.dat\n",
      "Error in processing transmittion file: /Users/ryuichi/analysis/20230302/Ni/Ni7 Ni K  0013.dat\n"
     ]
    },
    {
     "name": "stderr",
     "output_type": "stream",
     "text": [
      " 84%|████████▍ | 145/173 [00:58<00:09,  2.90it/s]"
     ]
    },
    {
     "name": "stdout",
     "output_type": "stream",
     "text": [
      "Error in processing in reference. File:  /Users/ryuichi/analysis/20230302/Ni/Ni7 Ni K  0013.dat\n",
      "Error in processing transmittion file: /Users/ryuichi/analysis/20230302/Ni/Ni7 Ni K  0014.dat\n"
     ]
    },
    {
     "name": "stderr",
     "output_type": "stream",
     "text": [
      " 84%|████████▍ | 146/173 [00:58<00:09,  2.90it/s]"
     ]
    },
    {
     "name": "stdout",
     "output_type": "stream",
     "text": [
      "Error in processing in reference. File:  /Users/ryuichi/analysis/20230302/Ni/Ni7 Ni K  0014.dat\n",
      "Error in processing transmittion file: /Users/ryuichi/analysis/20230302/Ni/Ni7 Ni K  0015.dat\n"
     ]
    },
    {
     "name": "stderr",
     "output_type": "stream",
     "text": [
      " 85%|████████▍ | 147/173 [00:58<00:09,  2.89it/s]"
     ]
    },
    {
     "name": "stdout",
     "output_type": "stream",
     "text": [
      "Error in processing in reference. File:  /Users/ryuichi/analysis/20230302/Ni/Ni7 Ni K  0015.dat\n",
      "Error in processing transmittion file: /Users/ryuichi/analysis/20230302/Ni/Ni7 Ni K  0016.dat\n"
     ]
    },
    {
     "name": "stderr",
     "output_type": "stream",
     "text": [
      " 86%|████████▌ | 148/173 [00:59<00:08,  2.90it/s]"
     ]
    },
    {
     "name": "stdout",
     "output_type": "stream",
     "text": [
      "Error in processing in reference. File:  /Users/ryuichi/analysis/20230302/Ni/Ni7 Ni K  0016.dat\n",
      "Error in processing transmittion file: /Users/ryuichi/analysis/20230302/Ni/Ni7 Ni K  0017.dat\n"
     ]
    },
    {
     "name": "stderr",
     "output_type": "stream",
     "text": [
      " 86%|████████▌ | 149/173 [01:00<00:14,  1.63it/s]"
     ]
    },
    {
     "name": "stdout",
     "output_type": "stream",
     "text": [
      "Error in processing in reference. File:  /Users/ryuichi/analysis/20230302/Ni/Ni7 Ni K  0017.dat\n",
      "Error in processing transmittion file: /Users/ryuichi/analysis/20230302/Ni/Ni7 Ni K  0018.dat\n"
     ]
    },
    {
     "name": "stderr",
     "output_type": "stream",
     "text": [
      " 87%|████████▋ | 150/173 [01:00<00:12,  1.87it/s]"
     ]
    },
    {
     "name": "stdout",
     "output_type": "stream",
     "text": [
      "Error in processing in reference. File:  /Users/ryuichi/analysis/20230302/Ni/Ni7 Ni K  0018.dat\n",
      "Error in processing transmittion file: /Users/ryuichi/analysis/20230302/Ni/Ni7 Ni K  0019.dat\n"
     ]
    },
    {
     "name": "stderr",
     "output_type": "stream",
     "text": [
      " 87%|████████▋ | 151/173 [01:01<00:10,  2.08it/s]"
     ]
    },
    {
     "name": "stdout",
     "output_type": "stream",
     "text": [
      "Error in processing in reference. File:  /Users/ryuichi/analysis/20230302/Ni/Ni7 Ni K  0019.dat\n",
      "Error in processing transmittion file: /Users/ryuichi/analysis/20230302/Ni/Ni7 Ni K  0020.dat\n"
     ]
    },
    {
     "name": "stderr",
     "output_type": "stream",
     "text": [
      " 88%|████████▊ | 152/173 [01:01<00:09,  2.27it/s]"
     ]
    },
    {
     "name": "stdout",
     "output_type": "stream",
     "text": [
      "Error in processing in reference. File:  /Users/ryuichi/analysis/20230302/Ni/Ni7 Ni K  0020.dat\n",
      "Error in processing transmittion file: /Users/ryuichi/analysis/20230302/Ni/Ni8 Ni K  0001-r0002.dat\n"
     ]
    },
    {
     "name": "stderr",
     "output_type": "stream",
     "text": [
      " 88%|████████▊ | 153/173 [01:01<00:08,  2.43it/s]"
     ]
    },
    {
     "name": "stdout",
     "output_type": "stream",
     "text": [
      "Error in processing in reference. File:  /Users/ryuichi/analysis/20230302/Ni/Ni8 Ni K  0001-r0002.dat\n",
      "Error in processing transmittion file: /Users/ryuichi/analysis/20230302/Ni/Ni8 Ni K  0001.dat\n"
     ]
    },
    {
     "name": "stderr",
     "output_type": "stream",
     "text": [
      " 89%|████████▉ | 154/173 [01:02<00:07,  2.54it/s]"
     ]
    },
    {
     "name": "stdout",
     "output_type": "stream",
     "text": [
      "Error in processing in reference. File:  /Users/ryuichi/analysis/20230302/Ni/Ni8 Ni K  0001.dat\n",
      "Error in processing transmittion file: /Users/ryuichi/analysis/20230302/Ni/Ni8 Ni K  0002.dat\n"
     ]
    },
    {
     "name": "stderr",
     "output_type": "stream",
     "text": [
      " 90%|████████▉ | 155/173 [01:02<00:06,  2.61it/s]"
     ]
    },
    {
     "name": "stdout",
     "output_type": "stream",
     "text": [
      "Error in processing in reference. File:  /Users/ryuichi/analysis/20230302/Ni/Ni8 Ni K  0002.dat\n",
      "Error in processing transmittion file: /Users/ryuichi/analysis/20230302/Ni/Ni8 Ni K  0003.dat\n"
     ]
    },
    {
     "name": "stderr",
     "output_type": "stream",
     "text": [
      " 90%|█████████ | 156/173 [01:03<00:06,  2.68it/s]"
     ]
    },
    {
     "name": "stdout",
     "output_type": "stream",
     "text": [
      "Error in processing in reference. File:  /Users/ryuichi/analysis/20230302/Ni/Ni8 Ni K  0003.dat\n",
      "Error in processing transmittion file: /Users/ryuichi/analysis/20230302/Ni/Ni8 Ni K  0004.dat\n"
     ]
    },
    {
     "name": "stderr",
     "output_type": "stream",
     "text": [
      " 91%|█████████ | 157/173 [01:03<00:05,  2.72it/s]"
     ]
    },
    {
     "name": "stdout",
     "output_type": "stream",
     "text": [
      "Error in processing in reference. File:  /Users/ryuichi/analysis/20230302/Ni/Ni8 Ni K  0004.dat\n",
      "Error in processing transmittion file: /Users/ryuichi/analysis/20230302/Ni/Ni8 Ni K  0005.dat\n"
     ]
    },
    {
     "name": "stderr",
     "output_type": "stream",
     "text": [
      " 91%|█████████▏| 158/173 [01:03<00:05,  2.74it/s]"
     ]
    },
    {
     "name": "stdout",
     "output_type": "stream",
     "text": [
      "Error in processing in reference. File:  /Users/ryuichi/analysis/20230302/Ni/Ni8 Ni K  0005.dat\n",
      "Error in processing transmittion file: /Users/ryuichi/analysis/20230302/Ni/Ni8 Ni K  0006.dat\n"
     ]
    },
    {
     "name": "stderr",
     "output_type": "stream",
     "text": [
      " 92%|█████████▏| 159/173 [01:04<00:05,  2.77it/s]"
     ]
    },
    {
     "name": "stdout",
     "output_type": "stream",
     "text": [
      "Error in processing in reference. File:  /Users/ryuichi/analysis/20230302/Ni/Ni8 Ni K  0006.dat\n",
      "Error in processing transmittion file: /Users/ryuichi/analysis/20230302/Ni/Ni8 Ni K  0007.dat\n"
     ]
    },
    {
     "name": "stderr",
     "output_type": "stream",
     "text": [
      " 92%|█████████▏| 160/173 [01:04<00:04,  2.79it/s]"
     ]
    },
    {
     "name": "stdout",
     "output_type": "stream",
     "text": [
      "Error in processing in reference. File:  /Users/ryuichi/analysis/20230302/Ni/Ni8 Ni K  0007.dat\n",
      "Error in processing transmittion file: /Users/ryuichi/analysis/20230302/Ni/Ni8 Ni K  0008.dat\n"
     ]
    },
    {
     "name": "stderr",
     "output_type": "stream",
     "text": [
      " 93%|█████████▎| 161/173 [01:04<00:04,  2.80it/s]"
     ]
    },
    {
     "name": "stdout",
     "output_type": "stream",
     "text": [
      "Error in processing in reference. File:  /Users/ryuichi/analysis/20230302/Ni/Ni8 Ni K  0008.dat\n",
      "Error in processing transmittion file: /Users/ryuichi/analysis/20230302/Ni/Ni8 Ni K  0009.dat\n"
     ]
    },
    {
     "name": "stderr",
     "output_type": "stream",
     "text": [
      " 94%|█████████▎| 162/173 [01:05<00:03,  2.82it/s]"
     ]
    },
    {
     "name": "stdout",
     "output_type": "stream",
     "text": [
      "Error in processing in reference. File:  /Users/ryuichi/analysis/20230302/Ni/Ni8 Ni K  0009.dat\n",
      "Error in processing transmittion file: /Users/ryuichi/analysis/20230302/Ni/Ni8 Ni K  0010.dat\n"
     ]
    },
    {
     "name": "stderr",
     "output_type": "stream",
     "text": [
      " 94%|█████████▍| 163/173 [01:05<00:03,  2.83it/s]"
     ]
    },
    {
     "name": "stdout",
     "output_type": "stream",
     "text": [
      "Error in processing in reference. File:  /Users/ryuichi/analysis/20230302/Ni/Ni8 Ni K  0010.dat\n",
      "Error in processing transmittion file: /Users/ryuichi/analysis/20230302/Ni/Ni8 Ni K  0011.dat\n"
     ]
    },
    {
     "name": "stderr",
     "output_type": "stream",
     "text": [
      " 95%|█████████▍| 164/173 [01:05<00:03,  2.83it/s]"
     ]
    },
    {
     "name": "stdout",
     "output_type": "stream",
     "text": [
      "Error in processing in reference. File:  /Users/ryuichi/analysis/20230302/Ni/Ni8 Ni K  0011.dat\n",
      "Error in processing transmittion file: /Users/ryuichi/analysis/20230302/Ni/Ni8 Ni K  0012.dat\n"
     ]
    },
    {
     "name": "stderr",
     "output_type": "stream",
     "text": [
      " 95%|█████████▌| 165/173 [01:06<00:02,  2.84it/s]"
     ]
    },
    {
     "name": "stdout",
     "output_type": "stream",
     "text": [
      "Error in processing in reference. File:  /Users/ryuichi/analysis/20230302/Ni/Ni8 Ni K  0012.dat\n",
      "Error in processing transmittion file: /Users/ryuichi/analysis/20230302/Ni/Ni8 Ni K  0013.dat\n"
     ]
    },
    {
     "name": "stderr",
     "output_type": "stream",
     "text": [
      " 96%|█████████▌| 166/173 [01:06<00:02,  2.85it/s]"
     ]
    },
    {
     "name": "stdout",
     "output_type": "stream",
     "text": [
      "Error in processing in reference. File:  /Users/ryuichi/analysis/20230302/Ni/Ni8 Ni K  0013.dat\n",
      "Error in processing transmittion file: /Users/ryuichi/analysis/20230302/Ni/Ni8 Ni K  0014.dat\n"
     ]
    },
    {
     "name": "stderr",
     "output_type": "stream",
     "text": [
      " 97%|█████████▋| 167/173 [01:06<00:02,  2.87it/s]"
     ]
    },
    {
     "name": "stdout",
     "output_type": "stream",
     "text": [
      "Error in processing in reference. File:  /Users/ryuichi/analysis/20230302/Ni/Ni8 Ni K  0014.dat\n",
      "Error in processing transmittion file: /Users/ryuichi/analysis/20230302/Ni/Ni8 Ni K  0015.dat\n"
     ]
    },
    {
     "name": "stderr",
     "output_type": "stream",
     "text": [
      " 97%|█████████▋| 168/173 [01:07<00:01,  2.85it/s]"
     ]
    },
    {
     "name": "stdout",
     "output_type": "stream",
     "text": [
      "Error in processing in reference. File:  /Users/ryuichi/analysis/20230302/Ni/Ni8 Ni K  0015.dat\n",
      "Error in processing transmittion file: /Users/ryuichi/analysis/20230302/Ni/Ni8 Ni K  0016.dat\n"
     ]
    },
    {
     "name": "stderr",
     "output_type": "stream",
     "text": [
      " 98%|█████████▊| 169/173 [01:07<00:01,  2.85it/s]"
     ]
    },
    {
     "name": "stdout",
     "output_type": "stream",
     "text": [
      "Error in processing in reference. File:  /Users/ryuichi/analysis/20230302/Ni/Ni8 Ni K  0016.dat\n",
      "Error in processing transmittion file: /Users/ryuichi/analysis/20230302/Ni/Ni8 Ni K  0017.dat\n"
     ]
    },
    {
     "name": "stderr",
     "output_type": "stream",
     "text": [
      " 98%|█████████▊| 170/173 [01:07<00:01,  2.84it/s]"
     ]
    },
    {
     "name": "stdout",
     "output_type": "stream",
     "text": [
      "Error in processing in reference. File:  /Users/ryuichi/analysis/20230302/Ni/Ni8 Ni K  0017.dat\n",
      "Error in processing transmittion file: /Users/ryuichi/analysis/20230302/Ni/Ni8 Ni K  0018.dat\n"
     ]
    },
    {
     "name": "stderr",
     "output_type": "stream",
     "text": [
      " 99%|█████████▉| 171/173 [01:08<00:00,  2.85it/s]"
     ]
    },
    {
     "name": "stdout",
     "output_type": "stream",
     "text": [
      "Error in processing in reference. File:  /Users/ryuichi/analysis/20230302/Ni/Ni8 Ni K  0018.dat\n",
      "Error in processing transmittion file: /Users/ryuichi/analysis/20230302/Ni/Ni8 Ni K  0019.dat\n"
     ]
    },
    {
     "name": "stderr",
     "output_type": "stream",
     "text": [
      " 99%|█████████▉| 172/173 [01:08<00:00,  2.85it/s]"
     ]
    },
    {
     "name": "stdout",
     "output_type": "stream",
     "text": [
      "Error in processing in reference. File:  /Users/ryuichi/analysis/20230302/Ni/Ni8 Ni K  0019.dat\n",
      "Error in processing transmittion file: /Users/ryuichi/analysis/20230302/Ni/Ni8 Ni K  0020.dat\n"
     ]
    },
    {
     "name": "stderr",
     "output_type": "stream",
     "text": [
      "100%|██████████| 173/173 [01:09<00:00,  2.51it/s]"
     ]
    },
    {
     "name": "stdout",
     "output_type": "stream",
     "text": [
      "Error in processing in reference. File:  /Users/ryuichi/analysis/20230302/Ni/Ni8 Ni K  0020.dat\n"
     ]
    },
    {
     "name": "stderr",
     "output_type": "stream",
     "text": [
      "\n"
     ]
    },
    {
     "name": "stdout",
     "output_type": "stream",
     "text": [
      "Error in plotting merged spectrum. File:  Ni Merged Spectrum\n"
     ]
    }
   ],
   "source": [
    "lp.QAS_preanalysis(\"/Users/ryuichi/analysis/20230302/Ni/Ni*.dat\",\n",
    "                   output_dir=\"/Users/ryuichi/analysis/20230302/slide/Ni/\",\n",
    "                   athena_output_dir=\"/Users/ryuichi/analysis/20230302/athena/\",\n",
    "                   prefix=\"Ni\",)"
   ]
  },
  {
   "cell_type": "code",
   "execution_count": 8,
   "metadata": {},
   "outputs": [
    {
     "name": "stderr",
     "output_type": "stream",
     "text": [
      "100%|██████████| 174/174 [00:05<00:00, 29.23it/s]\n"
     ]
    }
   ],
   "source": [
    "title_font_size = 20\n",
    "label_font_size = 12\n",
    "\n",
    "lp.generate_presenation(output_dir=\"/Users/ryuichi/analysis/20230302/slide/Ni/\",\n",
    "                        ppt_path=\"/Users/ryuichi/analysis/20230302/slide/Ni.pptx\",\n",
    "                        title=\"Preanalysis of Ni data QAS20230302\",\n",
    "                        title_font_size=title_font_size, label_font_size=label_font_size)"
   ]
  },
  {
   "cell_type": "code",
   "execution_count": 17,
   "metadata": {},
   "outputs": [],
   "source": [
    "# data_dir = \"/nsls2/data/qas-new/legacy/processed/2022/2/{}/{}*.dat\"\n",
    "# proposal = 309890\n",
    "\n",
    "debug_dir = \"/Users/ryuichi/analysis/20230302/Co\"\n",
    "\n",
    "data_dir = \"../Pt/{}/data/{}*.dat\"\n",
    "# dir_info_list = [\n",
    "#     (\"Co1\", \"Co foil\"),\n",
    "#     (\"Co11\", \"Co11\")\n",
    "# ]\n",
    "\n",
    "dir_info_list = [\n",
    "    (\"Pt1\", \"Pt1\"),\n",
    "    (\"Pt2\", \"Pt2\"),\n",
    "    (\"Pt3\", \"Pt3\"),\n",
    "    (\"Pt4\", \"Pt4\"),\n",
    "    (\"Pt5\", \"Pt5\")\n",
    "]\n",
    "\n",
    "title_font_size = 20\n",
    "label_font_size = 12\n"
   ]
  },
  {
   "cell_type": "code",
   "execution_count": 18,
   "metadata": {},
   "outputs": [
    {
     "name": "stdout",
     "output_type": "stream",
     "text": [
      "../Pt/data/CuO_Pt*.dat\n"
     ]
    },
    {
     "name": "stderr",
     "output_type": "stream",
     "text": [
      "100%|██████████| 1133/1133 [22:14<00:00,  1.18s/it] \n"
     ]
    },
    {
     "name": "stdout",
     "output_type": "stream",
     "text": [
      "Error in plotting merged spectrum. File:  00000_CuO_Pt All Spectrum\n"
     ]
    }
   ],
   "source": [
    "for dir_info in dir_info_list:\n",
    "    file_path = data_dir.format(*dir_info)\n",
    "    output_dir = \"../output/{}/\".format(dir_info[0])\n",
    "    athena_output_dir = \"../output/athena/\"\n",
    "    title = \"Preanalysis of {}\".format(dir_info[1])\n",
    "    prefix = \"00000_{}\".format(dir_info[1])\n",
    "    ppt_path = \"../output/slides/{}_preanalysis.pptx\".format(dir_info[1])\n",
    "    \n",
    "    print(file_path)\n",
    "    \n",
    "    lp.QAS_preanalysis(files_path=file_path, \n",
    "                       output_dir=output_dir, \n",
    "                       athena_output_dir=athena_output_dir,\n",
    "                       prefix=prefix)"
   ]
  },
  {
   "cell_type": "code",
   "execution_count": 21,
   "metadata": {},
   "outputs": [
    {
     "name": "stderr",
     "output_type": "stream",
     "text": [
      "100%|██████████| 71/71 [00:07<00:00,  9.96it/s]\n"
     ]
    }
   ],
   "source": [
    "for dir_info in dir_info_list:\n",
    "    file_path = data_dir.format(*dir_info)\n",
    "    output_dir = \"../output/{}/\".format(dir_info[0])\n",
    "    athena_output_dir = \"../output/athena/\"\n",
    "    title = \"Preanalysis of {}\".format(dir_info[1])\n",
    "    prefix = \"00000_{}\".format(dir_info[1])\n",
    "    ppt_path = \"../output/slides/{}_preanalysis.pptx\".format(dir_info[1])\n",
    "    \n",
    "    lp.generate_presenation(output_dir=output_dir, ppt_path=ppt_path, title = title, title_font_size=title_font_size, label_font_size=label_font_size)\n"
   ]
  },
  {
   "cell_type": "code",
   "execution_count": null,
   "metadata": {},
   "outputs": [],
   "source": []
  },
  {
   "cell_type": "code",
   "execution_count": null,
   "metadata": {},
   "outputs": [],
   "source": []
  }
 ],
 "metadata": {
  "kernelspec": {
   "display_name": "Python 3.9.13 ('larch')",
   "language": "python",
   "name": "python3"
  },
  "language_info": {
   "codemirror_mode": {
    "name": "ipython",
    "version": 3
   },
   "file_extension": ".py",
   "mimetype": "text/x-python",
   "name": "python",
   "nbconvert_exporter": "python",
   "pygments_lexer": "ipython3",
   "version": "3.9.13"
  },
  "orig_nbformat": 4,
  "vscode": {
   "interpreter": {
    "hash": "b28422a51819fdd3a898bf1b16803d6eaab1e4684455617d344af5c95f50d35c"
   }
  }
 },
 "nbformat": 4,
 "nbformat_minor": 2
}
