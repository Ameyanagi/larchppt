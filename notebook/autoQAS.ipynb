{
 "cells": [
  {
   "cell_type": "code",
   "execution_count": 1,
   "metadata": {},
   "outputs": [],
   "source": [
    "import os\n",
    "import sys\n",
    "module_path = os.path.abspath(os.path.join('..'))\n",
    "if module_path not in sys.path:\n",
    "    sys.path.append(module_path)\n",
    "    \n",
    "#data_dir = \"/Volumes/Ryuichi_SSD/\"\n",
    "#proposal = \"310058\"\n",
    "data_dir = \"/Users/ryuichi/analysis/\"\n",
    "proposal = \"test\"\n",
    "year = \"2022\"\n",
    "cycle = \"2\""
   ]
  },
  {
   "cell_type": "code",
   "execution_count": 2,
   "metadata": {},
   "outputs": [
    {
     "name": "stdout",
     "output_type": "stream",
     "text": [
      "Requirement already satisfied: python-pptx in /Users/ryuichi/mambaforge/envs/larch/lib/python3.9/site-packages (0.6.21)\n",
      "Requirement already satisfied: Pillow>=3.3.2 in /Users/ryuichi/mambaforge/envs/larch/lib/python3.9/site-packages (from python-pptx) (9.1.1)\n",
      "Requirement already satisfied: lxml>=3.1.0 in /Users/ryuichi/mambaforge/envs/larch/lib/python3.9/site-packages (from python-pptx) (4.9.0)\n",
      "Requirement already satisfied: XlsxWriter>=0.5.7 in /Users/ryuichi/mambaforge/envs/larch/lib/python3.9/site-packages (from python-pptx) (3.0.3)\n"
     ]
    }
   ],
   "source": [
    "!pip install python-pptx"
   ]
  },
  {
   "cell_type": "code",
   "execution_count": 3,
   "metadata": {},
   "outputs": [],
   "source": [
    "import autoQAS\n",
    "aq = autoQAS.autoQAS(data_dir=data_dir, year=year, cycle=cycle, proposal=proposal)"
   ]
  },
  {
   "cell_type": "code",
   "execution_count": 4,
   "metadata": {},
   "outputs": [
    {
     "name": "stdout",
     "output_type": "stream",
     "text": [
      "Error in processing transmittion file: /Users/ryuichi/analysis/2022/2/test/A1_60uL_Pt Pt  0001.dat\n",
      "Error in processing in reference. File:  /Users/ryuichi/analysis/2022/2/test/A1_60uL_Pt Pt  0001.dat\n",
      "Error in processing in reference. File:  /Users/ryuichi/analysis/2022/2/test/A1_60uL_Pt Pt  0001-r0002.dat\n",
      "Error in processing transmittion file: /Users/ryuichi/analysis/2022/2/test/A1_60uL_Pt Pt  0002.dat\n",
      "Error in processing in reference. File:  /Users/ryuichi/analysis/2022/2/test/A1_60uL_Pt Pt  0002.dat\n",
      "Error in processing in reference. File:  /Users/ryuichi/analysis/2022/2/test/A1_60uL_Pt Pt  0003.dat\n",
      "Error in processing transmittion file: /Users/ryuichi/analysis/2022/2/test/A1_60uL_Pt Pt  0004.dat\n",
      "Error in processing in reference. File:  /Users/ryuichi/analysis/2022/2/test/A1_60uL_Pt Pt  0004.dat\n",
      "Error in processing in reference. File:  /Users/ryuichi/analysis/2022/2/test/A1_60uL_Pt Pt  0005.dat\n",
      "Error in processing transmittion file: /Users/ryuichi/analysis/2022/2/test/A1_60uL_Pt Pt  0006.dat\n",
      "Error in processing in reference. File:  /Users/ryuichi/analysis/2022/2/test/A1_60uL_Pt Pt  0006.dat\n",
      "Error in processing transmittion file: /Users/ryuichi/analysis/2022/2/test/A1_60uL_Pt Pt  0007.dat\n",
      "Error in processing in reference. File:  /Users/ryuichi/analysis/2022/2/test/A1_60uL_Pt Pt  0007.dat\n",
      "Error in processing transmittion file: /Users/ryuichi/analysis/2022/2/test/A1_60uL_Pt Pt  0008.dat\n",
      "Error in processing in reference. File:  /Users/ryuichi/analysis/2022/2/test/A1_60uL_Pt Pt  0008.dat\n",
      "Error in processing transmittion file: /Users/ryuichi/analysis/2022/2/test/A1_60uL_Pt Pt  0009.dat\n",
      "Error in processing in reference. File:  /Users/ryuichi/analysis/2022/2/test/A1_60uL_Pt Pt  0009.dat\n",
      "Error in processing transmittion file: /Users/ryuichi/analysis/2022/2/test/A1_60uL_Pt Pt  0010.dat\n",
      "Error in processing in reference. File:  /Users/ryuichi/analysis/2022/2/test/A1_60uL_Pt Pt  0010.dat\n",
      "Error in processing in reference. File:  /Users/ryuichi/analysis/2022/2/test/A1_60uL_Pt Pt  0011.dat\n",
      "Error in processing transmittion file: /Users/ryuichi/analysis/2022/2/test/A1_60uL_Pt Pt  0012.dat\n",
      "Error in processing in reference. File:  /Users/ryuichi/analysis/2022/2/test/A1_60uL_Pt Pt  0012.dat\n",
      "Error in processing transmittion file: /Users/ryuichi/analysis/2022/2/test/A1_60uL_Pt Pt  0013.dat\n",
      "Error in processing in reference. File:  /Users/ryuichi/analysis/2022/2/test/A1_60uL_Pt Pt  0013.dat\n",
      "Error in processing transmittion file: /Users/ryuichi/analysis/2022/2/test/A1_60uL_Pt Pt  0014.dat\n",
      "Error in processing in reference. File:  /Users/ryuichi/analysis/2022/2/test/A1_60uL_Pt Pt  0014.dat\n",
      "Error in processing transmittion file: /Users/ryuichi/analysis/2022/2/test/A1_60uL_Pt Pt  0015.dat\n",
      "Error in processing in reference. File:  /Users/ryuichi/analysis/2022/2/test/A1_60uL_Pt Pt  0015.dat\n",
      "Error in processing transmittion file: /Users/ryuichi/analysis/2022/2/test/A1_60uL_Pt Pt  0016.dat\n",
      "Error in processing in reference. File:  /Users/ryuichi/analysis/2022/2/test/A1_60uL_Pt Pt  0016.dat\n",
      "Error in processing transmittion file: /Users/ryuichi/analysis/2022/2/test/A1_60uL_Pt Pt  0017.dat\n",
      "Error in processing in reference. File:  /Users/ryuichi/analysis/2022/2/test/A1_60uL_Pt Pt  0017.dat\n",
      "Error in processing transmittion file: /Users/ryuichi/analysis/2022/2/test/A1_60uL_Pt Pt  0018.dat\n",
      "Error in processing in reference. File:  /Users/ryuichi/analysis/2022/2/test/A1_60uL_Pt Pt  0018.dat\n",
      "Error in processing transmittion file: /Users/ryuichi/analysis/2022/2/test/A1_60uL_Pt Pt  0019.dat\n",
      "Error in processing in reference. File:  /Users/ryuichi/analysis/2022/2/test/A1_60uL_Pt Pt  0019.dat\n",
      "Error in processing transmittion file: /Users/ryuichi/analysis/2022/2/test/A1_60uL_Pt Pt  0020.dat\n",
      "Error in processing in reference. File:  /Users/ryuichi/analysis/2022/2/test/A1_60uL_Pt Pt  0020.dat\n",
      "Error in processing transmittion file: /Users/ryuichi/analysis/2022/2/test/A1_60uL_Pt Pt  0021.dat\n",
      "Error in processing in reference. File:  /Users/ryuichi/analysis/2022/2/test/A1_60uL_Pt Pt  0021.dat\n",
      "Error in processing transmittion file: /Users/ryuichi/analysis/2022/2/test/A1_60uL_Pt Pt  0022.dat\n",
      "Error in processing in reference. File:  /Users/ryuichi/analysis/2022/2/test/A1_60uL_Pt Pt  0022.dat\n",
      "Error in processing transmittion file: /Users/ryuichi/analysis/2022/2/test/A1_60uL_Pt Pt  0023.dat\n",
      "Error in processing in reference. File:  /Users/ryuichi/analysis/2022/2/test/A1_60uL_Pt Pt  0023.dat\n",
      "Error in processing transmittion file: /Users/ryuichi/analysis/2022/2/test/A1_60uL_Pt Pt  0024.dat\n",
      "Error in processing in reference. File:  /Users/ryuichi/analysis/2022/2/test/A1_60uL_Pt Pt  0024.dat\n",
      "Error in processing transmittion file: /Users/ryuichi/analysis/2022/2/test/A1_60uL_Pt Pt  0025.dat\n",
      "Error in processing in reference. File:  /Users/ryuichi/analysis/2022/2/test/A1_60uL_Pt Pt  0025.dat\n",
      "Error in processing transmittion file: /Users/ryuichi/analysis/2022/2/test/A1_60uL_Pt Pt  0026.dat\n",
      "Error in processing in reference. File:  /Users/ryuichi/analysis/2022/2/test/A1_60uL_Pt Pt  0026.dat\n",
      "Error in processing transmittion file: /Users/ryuichi/analysis/2022/2/test/A1_60uL_Pt Pt  0027.dat\n",
      "Error in processing in reference. File:  /Users/ryuichi/analysis/2022/2/test/A1_60uL_Pt Pt  0027.dat\n",
      "Error in processing transmittion file: /Users/ryuichi/analysis/2022/2/test/A1_60uL_Pt Pt  0028.dat\n",
      "Error in processing in reference. File:  /Users/ryuichi/analysis/2022/2/test/A1_60uL_Pt Pt  0028.dat\n",
      "Error in processing transmittion file: /Users/ryuichi/analysis/2022/2/test/A1_60uL_Pt Pt  0029.dat\n",
      "Error in processing in reference. File:  /Users/ryuichi/analysis/2022/2/test/A1_60uL_Pt Pt  0029.dat\n",
      "Error in processing in reference. File:  /Users/ryuichi/analysis/2022/2/test/A1_60uL_Pt Pt  0030.dat\n",
      "Error in processing transmittion file: /Users/ryuichi/analysis/2022/2/test/A1_60uL_Pt Pt  0031.dat\n",
      "Error in processing in reference. File:  /Users/ryuichi/analysis/2022/2/test/A1_60uL_Pt Pt  0031.dat\n",
      "Error in processing transmittion file: /Users/ryuichi/analysis/2022/2/test/A1_60uL_Pt Pt  0032.dat\n",
      "Error in processing in reference. File:  /Users/ryuichi/analysis/2022/2/test/A1_60uL_Pt Pt  0032.dat\n",
      "Error in processing transmittion file: /Users/ryuichi/analysis/2022/2/test/A1_60uL_Pt Pt  0033.dat\n",
      "Error in processing in reference. File:  /Users/ryuichi/analysis/2022/2/test/A1_60uL_Pt Pt  0033.dat\n",
      "Error in processing transmittion file: /Users/ryuichi/analysis/2022/2/test/A1_60uL_Pt Pt  0034.dat\n",
      "Error in processing in reference. File:  /Users/ryuichi/analysis/2022/2/test/A1_60uL_Pt Pt  0034.dat\n",
      "Error in processing transmittion file: /Users/ryuichi/analysis/2022/2/test/A1_60uL_Pt Pt  0035.dat\n",
      "Error in processing in reference. File:  /Users/ryuichi/analysis/2022/2/test/A1_60uL_Pt Pt  0035.dat\n",
      "Error in processing transmittion file: /Users/ryuichi/analysis/2022/2/test/A1_60uL_Pt Pt  0036.dat\n",
      "Error in processing in reference. File:  /Users/ryuichi/analysis/2022/2/test/A1_60uL_Pt Pt  0036.dat\n",
      "Error in processing transmittion file: /Users/ryuichi/analysis/2022/2/test/A1_60uL_Pt Pt  0037.dat\n",
      "Error in processing in reference. File:  /Users/ryuichi/analysis/2022/2/test/A1_60uL_Pt Pt  0037.dat\n",
      "Error in processing transmittion file: /Users/ryuichi/analysis/2022/2/test/A1_60uL_Pt Pt  0038.dat\n",
      "Error in processing in reference. File:  /Users/ryuichi/analysis/2022/2/test/A1_60uL_Pt Pt  0038.dat\n",
      "Error in processing transmittion file: /Users/ryuichi/analysis/2022/2/test/A1_60uL_Pt Pt  0039.dat\n",
      "Error in processing in reference. File:  /Users/ryuichi/analysis/2022/2/test/A1_60uL_Pt Pt  0039.dat\n",
      "Error in processing transmittion file: /Users/ryuichi/analysis/2022/2/test/A1_60uL_Pt Pt  0040.dat\n",
      "Error in processing in reference. File:  /Users/ryuichi/analysis/2022/2/test/A1_60uL_Pt Pt  0040.dat\n",
      "Error in processing transmittion file: /Users/ryuichi/analysis/2022/2/test/A1_60uL_Pt Pt  0041.dat\n",
      "Error in processing in reference. File:  /Users/ryuichi/analysis/2022/2/test/A1_60uL_Pt Pt  0041.dat\n",
      "Error in processing transmittion file: /Users/ryuichi/analysis/2022/2/test/A1_60uL_Pt Pt  0042.dat\n",
      "Error in processing in reference. File:  /Users/ryuichi/analysis/2022/2/test/A1_60uL_Pt Pt  0042.dat\n",
      "Error in processing transmittion file: /Users/ryuichi/analysis/2022/2/test/A1_60uL_Pt Pt  0043.dat\n",
      "Error in processing in reference. File:  /Users/ryuichi/analysis/2022/2/test/A1_60uL_Pt Pt  0043.dat\n",
      "Error in processing transmittion file: /Users/ryuichi/analysis/2022/2/test/A1_60uL_Pt Pt  0044.dat\n",
      "Error in processing in reference. File:  /Users/ryuichi/analysis/2022/2/test/A1_60uL_Pt Pt  0044.dat\n",
      "Error in processing transmittion file: /Users/ryuichi/analysis/2022/2/test/A1_60uL_Pt Pt  0045.dat\n",
      "Error in processing in reference. File:  /Users/ryuichi/analysis/2022/2/test/A1_60uL_Pt Pt  0045.dat\n",
      "Error in processing transmittion file: /Users/ryuichi/analysis/2022/2/test/A1_60uL_Pt Pt  0046.dat\n",
      "Error in processing in reference. File:  /Users/ryuichi/analysis/2022/2/test/A1_60uL_Pt Pt  0046.dat\n",
      "Error in processing transmittion file: /Users/ryuichi/analysis/2022/2/test/A1_60uL_Pt Pt  0047.dat\n",
      "Error in processing in reference. File:  /Users/ryuichi/analysis/2022/2/test/A1_60uL_Pt Pt  0047.dat\n",
      "Error in processing transmittion file: /Users/ryuichi/analysis/2022/2/test/A1_60uL_Pt Pt  0048.dat\n",
      "Error in processing in reference. File:  /Users/ryuichi/analysis/2022/2/test/A1_60uL_Pt Pt  0048.dat\n",
      "Error in processing transmittion file: /Users/ryuichi/analysis/2022/2/test/A1_60uL_Pt Pt  0049.dat\n",
      "Error in processing in reference. File:  /Users/ryuichi/analysis/2022/2/test/A1_60uL_Pt Pt  0049.dat\n",
      "Error in processing transmittion file: /Users/ryuichi/analysis/2022/2/test/A1_60uL_Pt Pt  0050.dat\n",
      "Error in processing in reference. File:  /Users/ryuichi/analysis/2022/2/test/A1_60uL_Pt Pt  0050.dat\n"
     ]
    },
    {
     "name": "stderr",
     "output_type": "stream",
     "text": [
      "100%|██████████| 51/51 [00:00<00:00, 72.82it/s]\n"
     ]
    }
   ],
   "source": [
    "aq.watch_QAS()"
   ]
  },
  {
   "cell_type": "code",
   "execution_count": null,
   "metadata": {},
   "outputs": [],
   "source": [
    "aq.show_img(\"/Users/ryuichi/python/larchppt/output/Co11 Co-C-MA-1-Co-800-7 powder on kapton tape Co/00000_ All Spectrum/fig/*.png\")"
   ]
  },
  {
   "cell_type": "code",
   "execution_count": null,
   "metadata": {},
   "outputs": [],
   "source": [
    "aq.watch_update()"
   ]
  },
  {
   "cell_type": "code",
   "execution_count": null,
   "metadata": {},
   "outputs": [],
   "source": [
    "name = \"Co9 Co-C-MA-2-Co-20-5 powder on kapton tape Co  0004.dat\"\n",
    "name2 = \"Co11 Co-C-MA-1-Co-800-7 powder on kapton tape Co  0128-r0001.dat\""
   ]
  },
  {
   "cell_type": "code",
   "execution_count": null,
   "metadata": {},
   "outputs": [],
   "source": [
    "import re"
   ]
  },
  {
   "cell_type": "code",
   "execution_count": null,
   "metadata": {},
   "outputs": [],
   "source": [
    "name_regex = re.compile(r'(.*)  [0-9]{4}(?:-r[0-9]{4}\\.dat)?')"
   ]
  },
  {
   "cell_type": "code",
   "execution_count": null,
   "metadata": {},
   "outputs": [],
   "source": []
  },
  {
   "cell_type": "code",
   "execution_count": null,
   "metadata": {},
   "outputs": [],
   "source": [
    "print(re.findall(name_regex, name))\n",
    "print(re.findall(name_regex, name2))"
   ]
  },
  {
   "cell_type": "code",
   "execution_count": null,
   "metadata": {},
   "outputs": [],
   "source": []
  },
  {
   "cell_type": "code",
   "execution_count": null,
   "metadata": {},
   "outputs": [],
   "source": [
    "from IPython.display import clear_output\n",
    "import time\n",
    "\n",
    "for i in range(10):\n",
    "    clear_output(wait=True)\n",
    "    print(i, flush=True)\n",
    "    time.sleep(1)"
   ]
  },
  {
   "cell_type": "code",
   "execution_count": null,
   "metadata": {},
   "outputs": [],
   "source": []
  },
  {
   "cell_type": "code",
   "execution_count": 37,
   "metadata": {},
   "outputs": [],
   "source": [
    "header = ['# Facility: NSLS-II', '# Beamline: QAS', '# Year: 2022', '# Cycle: 2', '# SAF: 309553', '# PI: Suib', '# Proposal: 310058', '# Scan ID: 41463', '# UID: b9cdfd72-6250-4316-81ea-afaf29709bcd', '# Comment:', '# Start time: 07/07/2022  11:37:21', '# Stop time: 07/07/2022  11:37:53', '# Total time: 00:32', '# Trajectory name: Pt-30s-new-11564.txt', '# Element: Platinum ( 78)', '# Edge: L3', '# E0: 11564', '# Reference Foil Element: Pt', '# Keithley Gains I0: 1E7 V/A It: 1E7 V/A Iref: 1E7 V/A PIPS: 1E7 V/A', '# Ion Chamber Gas Flow Rates: I0: 0.00 sccm He + 99.70 sccm N2 + 0.00 sccm Ar', '# Ion Chamber Gas Flow Rates: It&Iref: 69.70 sccm N2 + 30.10 sccm Ar', '# Incident Beam Path Vertical: -27.68 mm', '# Incident Slits Positions B: TOP: 1.0 mm Bottom: -1.0 mm Inboard: -1.5 mm Outboard: 1.5 mm', '# Sample Stage Positions: Rotation: 45.0 deg Horizontal: -15.42 mm Vertical: 37.30 mm Beam Direction: 0.00 mm', '# PerkinElmer Vertical Position: 500.00 mm', '# Front End Mirror Horizontal Positions: Up: -14.00 mm Down: -14.00 mm', '#', '# energy  i0  it  ir  iff  aux1  aux2  aux3  aux4']"
   ]
  },
  {
   "cell_type": "code",
   "execution_count": 40,
   "metadata": {},
   "outputs": [],
   "source": [
    "# create a regex to make dict from header\n",
    "# the format is # {key}:{value}\n",
    "import re\n",
    "\n",
    "header_regex = re.compile(r'# ([^:]+):(.*)')\n",
    "\n",
    "def make_dict(header):\n",
    "    d = {}\n",
    "    for line in header:\n",
    "        match = re.findall(split_regex, line)\n",
    "        if match:\n",
    "            d[match[0][0]] = match[0][1]\n",
    "    return d"
   ]
  },
  {
   "cell_type": "code",
   "execution_count": 41,
   "metadata": {},
   "outputs": [
    {
     "data": {
      "text/plain": [
       "11564.0"
      ]
     },
     "execution_count": 41,
     "metadata": {},
     "output_type": "execute_result"
    }
   ],
   "source": [
    "float(make_dict(header)[\"E0\"])\n"
   ]
  },
  {
   "cell_type": "code",
   "execution_count": null,
   "metadata": {},
   "outputs": [],
   "source": []
  }
 ],
 "metadata": {
  "kernelspec": {
   "display_name": "Python 3",
   "language": "python",
   "name": "python3"
  },
  "language_info": {
   "codemirror_mode": {
    "name": "ipython",
    "version": 3
   },
   "file_extension": ".py",
   "mimetype": "text/x-python",
   "name": "python",
   "nbconvert_exporter": "python",
   "pygments_lexer": "ipython3",
   "version": "3.9.13"
  },
  "vscode": {
   "interpreter": {
    "hash": "b28422a51819fdd3a898bf1b16803d6eaab1e4684455617d344af5c95f50d35c"
   }
  }
 },
 "nbformat": 4,
 "nbformat_minor": 4
}
