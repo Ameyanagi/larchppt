{
 "cells": [
  {
   "cell_type": "code",
   "execution_count": 1,
   "metadata": {},
   "outputs": [],
   "source": [
    "import os\n",
    "import sys\n",
    "module_path = os.path.abspath(os.path.join('..'))\n",
    "if module_path not in sys.path:\n",
    "    sys.path.append(module_path)\n",
    "    \n",
    "#data_dir = \"/Volumes/Ryuichi_SSD/\"\n",
    "#proposal = \"310058\"\n",
    "# data_dir = \"/Users/ryuichi/analysis/\"\n",
    "# proposal = \"test\"\n",
    "# year = \"2022\"\n",
    "# cycle = \"2\"\n",
    "\n",
    "debug_dir = \"/Users/ryuichi/analysis/20230302/Co\""
   ]
  },
  {
   "cell_type": "code",
   "execution_count": 2,
   "metadata": {},
   "outputs": [],
   "source": [
    "import autoQAS\n",
    "aq = autoQAS.autoQAS(debug_dir=debug_dir)"
   ]
  },
  {
   "cell_type": "code",
   "execution_count": 3,
   "metadata": {},
   "outputs": [
    {
     "ename": "AttributeError",
     "evalue": "'autoQAS' object has no attribute 'current_job_name'",
     "output_type": "error",
     "traceback": [
      "\u001b[0;31m---------------------------------------------------------------------------\u001b[0m",
      "\u001b[0;31mAttributeError\u001b[0m                            Traceback (most recent call last)",
      "\u001b[1;32m/Users/ryuichi/python/larchppt/notebook/autoQAS_Co.ipynb Cell 3\u001b[0m in \u001b[0;36m<cell line: 1>\u001b[0;34m()\u001b[0m\n\u001b[0;32m----> <a href='vscode-notebook-cell:/Users/ryuichi/python/larchppt/notebook/autoQAS_Co.ipynb#W3sZmlsZQ%3D%3D?line=0'>1</a>\u001b[0m aq\u001b[39m.\u001b[39;49mwatch_QAS()\n",
      "File \u001b[0;32m~/python/larchppt/autoQAS.py:284\u001b[0m, in \u001b[0;36mautoQAS.watch_QAS\u001b[0;34m(self)\u001b[0m\n\u001b[1;32m    281\u001b[0m \u001b[39mfor\u001b[39;00m file \u001b[39min\u001b[39;00m \u001b[39mself\u001b[39m\u001b[39m.\u001b[39mcurrent_job_files:\n\u001b[1;32m    282\u001b[0m     \u001b[39mself\u001b[39m\u001b[39m.\u001b[39mQAS_preanalysis_update(file, merge\u001b[39m=\u001b[39m\u001b[39mFalse\u001b[39;00m, show_img\u001b[39m=\u001b[39m\u001b[39mFalse\u001b[39;00m)\n\u001b[0;32m--> 284\u001b[0m \u001b[39mself\u001b[39;49m\u001b[39m.\u001b[39;49mgen_slides()       \n\u001b[1;32m    286\u001b[0m \u001b[39mself\u001b[39m\u001b[39m.\u001b[39mwatch_update()\n",
      "File \u001b[0;32m~/python/larchppt/autoQAS.py:227\u001b[0m, in \u001b[0;36mautoQAS.gen_slides\u001b[0;34m(self)\u001b[0m\n\u001b[1;32m    226\u001b[0m \u001b[39mdef\u001b[39;00m \u001b[39mgen_slides\u001b[39m(\u001b[39mself\u001b[39m):\n\u001b[0;32m--> 227\u001b[0m     output_dir \u001b[39m=\u001b[39m \u001b[39m\"\u001b[39m\u001b[39m../output/\u001b[39m\u001b[39m{}\u001b[39;00m\u001b[39m/\u001b[39m\u001b[39m\"\u001b[39m\u001b[39m.\u001b[39mformat(\u001b[39mself\u001b[39;49m\u001b[39m.\u001b[39;49mcurrent_job_name)\n\u001b[1;32m    228\u001b[0m     title \u001b[39m=\u001b[39m \u001b[39m\"\u001b[39m\u001b[39mPreanalysis of \u001b[39m\u001b[39m{}\u001b[39;00m\u001b[39m\"\u001b[39m\u001b[39m.\u001b[39mformat(\u001b[39mself\u001b[39m\u001b[39m.\u001b[39mcurrent_job_name)\n\u001b[1;32m    229\u001b[0m     ppt_path \u001b[39m=\u001b[39m \u001b[39m\"\u001b[39m\u001b[39m../output/slides/\u001b[39m\u001b[39m{}\u001b[39;00m\u001b[39m_preanalysis.pptx\u001b[39m\u001b[39m\"\u001b[39m\u001b[39m.\u001b[39mformat(\u001b[39mself\u001b[39m\u001b[39m.\u001b[39mcurrent_job_name)\n",
      "\u001b[0;31mAttributeError\u001b[0m: 'autoQAS' object has no attribute 'current_job_name'"
     ]
    }
   ],
   "source": [
    "aq.watch_QAS()"
   ]
  },
  {
   "cell_type": "code",
   "execution_count": null,
   "metadata": {},
   "outputs": [],
   "source": [
    "aq.show_img(\"/Users/ryuichi/python/larchppt/output/Co11 Co-C-MA-1-Co-800-7 powder on kapton tape Co/00000_ All Spectrum/fig/*.png\")"
   ]
  },
  {
   "cell_type": "code",
   "execution_count": null,
   "metadata": {},
   "outputs": [],
   "source": [
    "aq.watch_update()"
   ]
  },
  {
   "cell_type": "code",
   "execution_count": null,
   "metadata": {},
   "outputs": [],
   "source": [
    "name = \"Co9 Co-C-MA-2-Co-20-5 powder on kapton tape Co  0004.dat\"\n",
    "name2 = \"Co11 Co-C-MA-1-Co-800-7 powder on kapton tape Co  0128-r0001.dat\""
   ]
  },
  {
   "cell_type": "code",
   "execution_count": null,
   "metadata": {},
   "outputs": [],
   "source": [
    "import re"
   ]
  },
  {
   "cell_type": "code",
   "execution_count": null,
   "metadata": {},
   "outputs": [],
   "source": [
    "name_regex = re.compile(r'(.*)  [0-9]{4}(?:-r[0-9]{4}\\.dat)?')"
   ]
  },
  {
   "cell_type": "code",
   "execution_count": null,
   "metadata": {},
   "outputs": [],
   "source": []
  },
  {
   "cell_type": "code",
   "execution_count": null,
   "metadata": {},
   "outputs": [],
   "source": [
    "print(re.findall(name_regex, name))\n",
    "print(re.findall(name_regex, name2))"
   ]
  },
  {
   "cell_type": "code",
   "execution_count": null,
   "metadata": {},
   "outputs": [],
   "source": []
  },
  {
   "cell_type": "code",
   "execution_count": null,
   "metadata": {},
   "outputs": [],
   "source": [
    "from IPython.display import clear_output\n",
    "import time\n",
    "\n",
    "for i in range(10):\n",
    "    clear_output(wait=True)\n",
    "    print(i, flush=True)\n",
    "    time.sleep(1)"
   ]
  },
  {
   "cell_type": "code",
   "execution_count": null,
   "metadata": {},
   "outputs": [],
   "source": []
  },
  {
   "cell_type": "code",
   "execution_count": 37,
   "metadata": {},
   "outputs": [],
   "source": [
    "header = ['# Facility: NSLS-II', '# Beamline: QAS', '# Year: 2022', '# Cycle: 2', '# SAF: 309553', '# PI: Suib', '# Proposal: 310058', '# Scan ID: 41463', '# UID: b9cdfd72-6250-4316-81ea-afaf29709bcd', '# Comment:', '# Start time: 07/07/2022  11:37:21', '# Stop time: 07/07/2022  11:37:53', '# Total time: 00:32', '# Trajectory name: Pt-30s-new-11564.txt', '# Element: Platinum ( 78)', '# Edge: L3', '# E0: 11564', '# Reference Foil Element: Pt', '# Keithley Gains I0: 1E7 V/A It: 1E7 V/A Iref: 1E7 V/A PIPS: 1E7 V/A', '# Ion Chamber Gas Flow Rates: I0: 0.00 sccm He + 99.70 sccm N2 + 0.00 sccm Ar', '# Ion Chamber Gas Flow Rates: It&Iref: 69.70 sccm N2 + 30.10 sccm Ar', '# Incident Beam Path Vertical: -27.68 mm', '# Incident Slits Positions B: TOP: 1.0 mm Bottom: -1.0 mm Inboard: -1.5 mm Outboard: 1.5 mm', '# Sample Stage Positions: Rotation: 45.0 deg Horizontal: -15.42 mm Vertical: 37.30 mm Beam Direction: 0.00 mm', '# PerkinElmer Vertical Position: 500.00 mm', '# Front End Mirror Horizontal Positions: Up: -14.00 mm Down: -14.00 mm', '#', '# energy  i0  it  ir  iff  aux1  aux2  aux3  aux4']"
   ]
  },
  {
   "cell_type": "code",
   "execution_count": 40,
   "metadata": {},
   "outputs": [],
   "source": [
    "# create a regex to make dict from header\n",
    "# the format is # {key}:{value}\n",
    "import re\n",
    "\n",
    "header_regex = re.compile(r'# ([^:]+):(.*)')\n",
    "\n",
    "def make_dict(header):\n",
    "    d = {}\n",
    "    for line in header:\n",
    "        match = re.findall(split_regex, line)\n",
    "        if match:\n",
    "            d[match[0][0]] = match[0][1]\n",
    "    return d"
   ]
  },
  {
   "cell_type": "code",
   "execution_count": 41,
   "metadata": {},
   "outputs": [
    {
     "data": {
      "text/plain": [
       "11564.0"
      ]
     },
     "execution_count": 41,
     "metadata": {},
     "output_type": "execute_result"
    }
   ],
   "source": [
    "float(make_dict(header)[\"E0\"])\n"
   ]
  },
  {
   "cell_type": "code",
   "execution_count": null,
   "metadata": {},
   "outputs": [],
   "source": []
  }
 ],
 "metadata": {
  "kernelspec": {
   "display_name": "Python 3",
   "language": "python",
   "name": "python3"
  },
  "language_info": {
   "codemirror_mode": {
    "name": "ipython",
    "version": 3
   },
   "file_extension": ".py",
   "mimetype": "text/x-python",
   "name": "python",
   "nbconvert_exporter": "python",
   "pygments_lexer": "ipython3",
   "version": "3.9.13"
  },
  "vscode": {
   "interpreter": {
    "hash": "b28422a51819fdd3a898bf1b16803d6eaab1e4684455617d344af5c95f50d35c"
   }
  }
 },
 "nbformat": 4,
 "nbformat_minor": 4
}
