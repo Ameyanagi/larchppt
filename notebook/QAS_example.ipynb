{
 "cells": [
  {
   "cell_type": "code",
   "execution_count": 13,
   "metadata": {},
   "outputs": [],
   "source": [
    "import os\n",
    "import sys\n",
    "module_path = os.path.abspath(os.path.join('..'))\n",
    "if module_path not in sys.path:\n",
    "    sys.path.append(module_path)"
   ]
  },
  {
   "cell_type": "code",
   "execution_count": 3,
   "metadata": {},
   "outputs": [
    {
     "name": "stdout",
     "output_type": "stream",
     "text": [
      "Collecting python-pptx\n",
      "  Using cached python_pptx-0.6.21-py3-none-any.whl\n",
      "Collecting XlsxWriter>=0.5.7\n",
      "  Using cached XlsxWriter-3.0.3-py3-none-any.whl (149 kB)\n",
      "Requirement already satisfied: lxml>=3.1.0 in /srv/conda/envs/notebook/lib/python3.9/site-packages (from python-pptx) (4.8.0)\n",
      "Requirement already satisfied: Pillow>=3.3.2 in /srv/conda/envs/notebook/lib/python3.9/site-packages (from python-pptx) (9.1.1)\n",
      "Installing collected packages: XlsxWriter, python-pptx\n",
      "Successfully installed XlsxWriter-3.0.3 python-pptx-0.6.21\n"
     ]
    }
   ],
   "source": [
    "!pip install python-pptx"
   ]
  },
  {
   "cell_type": "code",
   "execution_count": 14,
   "metadata": {},
   "outputs": [],
   "source": [
    "import larchppt"
   ]
  },
  {
   "cell_type": "code",
   "execution_count": 15,
   "metadata": {},
   "outputs": [],
   "source": [
    "lp = larchppt.larchppt()"
   ]
  },
  {
   "cell_type": "code",
   "execution_count": 16,
   "metadata": {},
   "outputs": [],
   "source": [
    "data_dir = \"/nsls2/data/qas-new/legacy/processed/2022/2/{}/{}*.dat\"\n",
    "proposal = 309890\n"
   ]
  },
  {
   "cell_type": "code",
   "execution_count": 17,
   "metadata": {},
   "outputs": [
    {
     "name": "stderr",
     "output_type": "stream",
     "text": [
      "100%|██████████| 181/181 [06:03<00:00,  2.01s/it]\n"
     ]
    }
   ],
   "source": [
    "lp.QAS_preanalysis(files_path=data_dir.format(proposal, \"Co11\"), output_dir=\"../output/Co11/\", athena_output_dir=\"../output/Co11/\")"
   ]
  },
  {
   "cell_type": "code",
   "execution_count": 18,
   "metadata": {},
   "outputs": [],
   "source": [
    "lp.generate_presenation(output_dir=\"../output/Co11/\", ppt_path=\"../output/Co11_preanalysis.pptx\")"
   ]
  },
  {
   "cell_type": "code",
   "execution_count": null,
   "metadata": {},
   "outputs": [],
   "source": []
  }
 ],
 "metadata": {
  "kernelspec": {
   "display_name": "Python 3",
   "language": "python",
   "name": "python3"
  },
  "language_info": {
   "codemirror_mode": {
    "name": "ipython",
    "version": 3
   },
   "file_extension": ".py",
   "mimetype": "text/x-python",
   "name": "python",
   "nbconvert_exporter": "python",
   "pygments_lexer": "ipython3",
   "version": "3.9.12"
  },
  "vscode": {
   "interpreter": {
    "hash": "b28422a51819fdd3a898bf1b16803d6eaab1e4684455617d344af5c95f50d35c"
   }
  }
 },
 "nbformat": 4,
 "nbformat_minor": 4
}
